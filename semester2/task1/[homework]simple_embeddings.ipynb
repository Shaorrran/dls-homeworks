{
 "cells": [
  {
   "cell_type": "markdown",
   "metadata": {
    "id": "Ot3c4fjZwC4T"
   },
   "source": [
    "<img src=\"https://s8.hostingkartinok.com/uploads/images/2018/08/308b49fcfbc619d629fe4604bceb67ac.jpg\" width=500, height=450>\n",
    "<h3 style=\"text-align: center;\"><b>Физтех-Школа Прикладной математики и информатики (ФПМИ) МФТИ</b></h3>"
   ]
  },
  {
   "cell_type": "markdown",
   "metadata": {
    "id": "P2JdzEXmwRU5"
   },
   "source": [
    "---"
   ]
  },
  {
   "cell_type": "markdown",
   "metadata": {
    "id": "Fc8iHXIVwDwj"
   },
   "source": [
    "***Some parts of the notebook are almost the copy of [ mmta-team course](https://github.com/mmta-team/mmta_fall_2020). Special thanks to mmta-team for making them publicly available. [Original notebook](https://github.com/mmta-team/mmta_fall_2020/blob/master/tasks/01_word_embeddings/task_word_embeddings.ipynb).***"
   ]
  },
  {
   "cell_type": "markdown",
   "metadata": {
    "id": "7D0wm5jt6j0U"
   },
   "source": [
    "<b> Прочитайте семинар, пожалуйста, для успешного выполнения домашнего задания. В конце ноутка напишите свой вывод. Работа без вывода оценивается ниже."
   ]
  },
  {
   "cell_type": "markdown",
   "metadata": {
    "id": "BIWqBuEa6j0b"
   },
   "source": [
    "## Задача поиска схожих по смыслу предложений"
   ]
  },
  {
   "cell_type": "markdown",
   "metadata": {
    "id": "NUkwMPLA6j0g"
   },
   "source": [
    "Мы будем ранжировать вопросы [StackOverflow](https://stackoverflow.com) на основе семантического векторного представления "
   ]
  },
  {
   "cell_type": "markdown",
   "metadata": {
    "id": "dNRXIEfu5a3Q"
   },
   "source": [
    "До этого в курсе не было речи про задачу ранжировния, поэтому введем математическую формулировку"
   ]
  },
  {
   "cell_type": "markdown",
   "metadata": {
    "id": "uS9FwWNd5a3S"
   },
   "source": [
    "## Задача ранжирования(Learning to Rank)"
   ]
  },
  {
   "cell_type": "markdown",
   "metadata": {
    "id": "wdwY9-f75a3T"
   },
   "source": [
    "* $X$ - множество объектов\n",
    "* $X^l = \\{x_1, x_2, ..., x_l\\}$ - обучающая выборка\n",
    "<br>На обучающей выборке задан порядок между некоторыми элементами, то есть нам известно, что некий объект выборки более релевантный для нас, чем другой:\n",
    "* $i \\prec j$ - порядок пары индексов объектов на выборке $X^l$ c индексами $i$ и $j$\n",
    "### Задача:\n",
    "построить ранжирующую функцию $a$ : $X \\rightarrow R$ такую, что\n",
    "$$i \\prec j \\Rightarrow a(x_i) < a(x_j)$$"
   ]
  },
  {
   "cell_type": "markdown",
   "metadata": {
    "id": "WG2IGBsh5a3U"
   },
   "source": [
    "<img src=\"https://d25skit2l41vkl.cloudfront.net/wp-content/uploads/2016/12/Featured-Image.jpg\" width=500, height=450>"
   ]
  },
  {
   "cell_type": "markdown",
   "metadata": {},
   "source": [
    "# Imports and NLTK downloads"
   ]
  },
  {
   "cell_type": "code",
   "execution_count": 1,
   "metadata": {
    "tags": []
   },
   "outputs": [
    {
     "name": "stdout",
     "output_type": "stream",
     "text": [
      "Trying installing prerequisites with conda...\n",
      "\n",
      "# All requested packages already installed.\n",
      "\n",
      "\n",
      "Note: you may need to restart the kernel to use updated packages.\n",
      "Prerequisites installed successfully!\n"
     ]
    }
   ],
   "source": [
    "try:\n",
    "    print(\"Trying installing prerequisites with conda...\")\n",
    "    %conda install -c conda-forge gdown gensim halo numpy nltk pandas scikit-learn tqdm wget --yes --quiet --satisfied-skip-solve\n",
    "except ValueError:\n",
    "    print(\"Installation via conda failed, trying pip...\")\n",
    "    %pip install gdown gensim halo numpy nltk pandas scikit-learn tqdm --quiet --exists-action i\n",
    "finally:\n",
    "    print(\"Prerequisites installed successfully!\")"
   ]
  },
  {
   "cell_type": "code",
   "execution_count": 142,
   "metadata": {},
   "outputs": [
    {
     "name": "stderr",
     "output_type": "stream",
     "text": [
      "[nltk_data] Downloading package perluniprops to\n",
      "[nltk_data]     /home/shaorrran/nltk_data...\n",
      "[nltk_data]   Package perluniprops is already up-to-date!\n",
      "[nltk_data] Downloading package punkt to /home/shaorrran/nltk_data...\n",
      "[nltk_data]   Package punkt is already up-to-date!\n",
      "[nltk_data] Downloading package wordnet to\n",
      "[nltk_data]     /home/shaorrran/nltk_data...\n"
     ]
    }
   ],
   "source": [
    "import gc\n",
    "import pathlib\n",
    "import os\n",
    "import random\n",
    "\n",
    "import gdown\n",
    "import gensim.models\n",
    "import gensim.models.keyedvectors\n",
    "import halo\n",
    "import numpy as np\n",
    "import pandas as pd\n",
    "import nltk\n",
    "nltk.download('perluniprops')\n",
    "nltk.download('punkt')\n",
    "nltk.download('wordnet')\n",
    "import nltk.tokenize\n",
    "import nltk.tokenize.nist\n",
    "import nltk.tokenize.stanford\n",
    "import nltk.stem\n",
    "import sklearn.metrics.pairwise\n",
    "import tqdm.notebook as tqdm"
   ]
  },
  {
   "cell_type": "markdown",
   "metadata": {},
   "source": [
    "# Reproducibility settings"
   ]
  },
  {
   "cell_type": "code",
   "execution_count": 3,
   "metadata": {},
   "outputs": [],
   "source": [
    "RANDOM_STATE = 42\n",
    "random.seed(RANDOM_STATE)\n",
    "os.environ[\"PYTHONHASHSEED\"] = str(RANDOM_STATE)\n",
    "np.random.seed(RANDOM_STATE)"
   ]
  },
  {
   "cell_type": "markdown",
   "metadata": {
    "id": "MQk_rolFwT_h"
   },
   "source": [
    "### Embeddings"
   ]
  },
  {
   "cell_type": "markdown",
   "metadata": {
    "id": "xUe1PGXn6j0l"
   },
   "source": [
    "Будем использовать предобученные векторные представления слов на постах Stack Overflow.<br>\n",
    "[A word2vec model trained on Stack Overflow posts](https://github.com/vefstathiou/SO_word2vec)"
   ]
  },
  {
   "cell_type": "code",
   "execution_count": 4,
   "metadata": {
    "id": "mYkI54Y-rk7a"
   },
   "outputs": [],
   "source": [
    "if not pathlib.Path(\"data/SO_vectors_200.bin\").is_file():\n",
    "    !wget https://zenodo.org/record/1199620/files/SO_vectors_200.bin?download=1 -O data/SO_vectors_200.bin"
   ]
  },
  {
   "cell_type": "code",
   "execution_count": 5,
   "metadata": {
    "id": "O8YJTOYv6j0s"
   },
   "outputs": [
    {
     "data": {
      "application/vnd.jupyter.widget-view+json": {
       "model_id": "164a368f30194dcf87cd43dac480ea50",
       "version_major": 2,
       "version_minor": 0
      },
      "text/plain": [
       "Output()"
      ]
     },
     "metadata": {},
     "output_type": "display_data"
    }
   ],
   "source": [
    "with halo.HaloNotebook(text=\"Loading embeddings from file...\", spinner=\"line\", placement=\"right\"):\n",
    "    wv_embeddings = gensim.models.keyedvectors.KeyedVectors.load_word2vec_format(\"data/SO_vectors_200.bin\", binary=True)"
   ]
  },
  {
   "cell_type": "markdown",
   "metadata": {
    "id": "aIcT_g-C6j1E",
    "tags": []
   },
   "source": [
    "#### Как пользоваться этими векторами?"
   ]
  },
  {
   "cell_type": "markdown",
   "metadata": {
    "id": "DWO5SPDY6j1G"
   },
   "source": [
    "Посмотрим на примере одного слова, что из себя представляет embedding"
   ]
  },
  {
   "cell_type": "code",
   "execution_count": 6,
   "metadata": {
    "id": "KeSBlQfk6j1J",
    "scrolled": true
   },
   "outputs": [
    {
     "name": "stdout",
     "output_type": "stream",
     "text": [
      "float32 (200,)\n"
     ]
    }
   ],
   "source": [
    "word = \"dog\"\n",
    "if word in wv_embeddings:\n",
    "    print(wv_embeddings[word].dtype, wv_embeddings[word].shape)"
   ]
  },
  {
   "cell_type": "code",
   "execution_count": 7,
   "metadata": {
    "id": "T4Eq-D1qxpMJ"
   },
   "outputs": [
    {
     "name": "stdout",
     "output_type": "stream",
     "text": [
      "Num of words: 1787145\n"
     ]
    }
   ],
   "source": [
    "print(f\"Num of words: {len(wv_embeddings.index_to_key)}\")"
   ]
  },
  {
   "cell_type": "markdown",
   "metadata": {
    "id": "ZT6NTCys6j1Q"
   },
   "source": [
    "Найдем наиболее близкие слова к слову `dog`:"
   ]
  },
  {
   "cell_type": "markdown",
   "metadata": {
    "id": "n08z2PjMwC5o"
   },
   "source": [
    "#### Вопрос 1:\n",
    "* Входит ли слов `cat` топ-5 близких слов к слову `dog`? Какое место? "
   ]
  },
  {
   "cell_type": "code",
   "execution_count": 8,
   "metadata": {
    "id": "nYwVz0xG6j1U",
    "scrolled": true
   },
   "outputs": [
    {
     "data": {
      "text/plain": [
       "[('animal', 0.8564180135726929),\n",
       " ('dogs', 0.7880866527557373),\n",
       " ('mammal', 0.7623804211616516),\n",
       " ('cats', 0.7621253728866577),\n",
       " ('animals', 0.760793924331665)]"
      ]
     },
     "execution_count": 8,
     "metadata": {},
     "output_type": "execute_result"
    }
   ],
   "source": [
    "# method most_simmilar\n",
    "wv_embeddings.most_similar(positive=[\"dog\"], topn=5)"
   ]
  },
  {
   "cell_type": "markdown",
   "metadata": {},
   "source": [
    "Слово \"cat\" в единственном числе не входит в топ-5 близких к слову \"dog\" (однако, его множественное число \"cats\" является 4-ым по близости к \"dog\")"
   ]
  },
  {
   "cell_type": "markdown",
   "metadata": {
    "id": "ai48-5vv6j1d"
   },
   "source": [
    "### Векторные представления текста\n",
    "\n",
    "Перейдем от векторных представлений отдельных слов к векторным представлениям вопросов, как к **среднему** векторов всех слов в вопросе. Если для какого-то слова нет предобученного вектора, то его нужно пропустить. Если вопрос не содержит ни одного известного слова, то нужно вернуть нулевой вектор."
   ]
  },
  {
   "cell_type": "code",
   "execution_count": 9,
   "metadata": {
    "id": "EhNuxBJd6j1f"
   },
   "outputs": [],
   "source": [
    "# you can use your tokenizer\n",
    "# for example, from nltk.tokenize import WordPunctTokenizer\n",
    "tokenizer = nltk.tokenize.WordPunctTokenizer() # you said it, not me"
   ]
  },
  {
   "cell_type": "code",
   "execution_count": 10,
   "metadata": {
    "id": "YHcvu6186j1m"
   },
   "outputs": [],
   "source": [
    "def question_to_vec(question, embeddings, tokenizer, dim=200):\n",
    "    \"\"\"\n",
    "        question: строка\n",
    "        embeddings: наше векторное представление\n",
    "        dim: размер любого вектора в нашем представлении\n",
    "        \n",
    "        return: векторное представление для вопроса\n",
    "    \"\"\"\n",
    "    if dim != embeddings.vector_size:\n",
    "        raise ValueError(\"Dimension not equal to embeddings vector size, will not cut or pad vectors.\")\n",
    "    return np.mean([embeddings[i] \n",
    "                    if i in embeddings else np.zeros(shape=(dim,)) \n",
    "                    for i in tokenizer.tokenize(question)],\n",
    "                   axis=0)"
   ]
  },
  {
   "cell_type": "markdown",
   "metadata": {
    "id": "u5Q_4j7r6j1u"
   },
   "source": [
    "Теперь у нас есть метод для создания векторного представления любого предложения."
   ]
  },
  {
   "cell_type": "markdown",
   "metadata": {
    "id": "EsJSNkhm6j1y"
   },
   "source": [
    "#### Вопрос 2:\n",
    "* Какая третья(с индексом 2) компонента вектора предложения `I love neural networks` (округлите до 2 знаков после запятой)?"
   ]
  },
  {
   "cell_type": "code",
   "execution_count": 11,
   "metadata": {
    "id": "a62r11cT6j10",
    "scrolled": true
   },
   "outputs": [
    {
     "data": {
      "text/plain": [
       "-0.96"
      ]
     },
     "execution_count": 11,
     "metadata": {},
     "output_type": "execute_result"
    }
   ],
   "source": [
    "round(question_to_vec(\"I love neural networks\", wv_embeddings, tokenizer)[2], 2)"
   ]
  },
  {
   "cell_type": "markdown",
   "metadata": {
    "id": "Y60z4t6W6j16"
   },
   "source": [
    "### Оценка близости текстов\n",
    "\n",
    "Представим, что мы используем идеальные векторные представления слов. Тогда косинусное расстояние между дублирующими предложениями должно быть меньше, чем между случайно взятыми предложениями. \n",
    "\n",
    "Сгенерируем для каждого из $N$ вопросов $R$ случайных отрицательных примеров и примешаем к ним также настоящие дубликаты. Для каждого вопроса будем ранжировать с помощью нашей модели $R + 1$ примеров и смотреть на позицию дубликата. Мы хотим, чтобы дубликат был первым в ранжированном списке.\n",
    "\n",
    "#### Hits@K\n",
    "Первой простой метрикой будет количество корректных попаданий для какого-то $K$:\n",
    "$$ \\text{Hits@K} = \\frac{1}{N}\\sum_{i=1}^N \\, [rank\\_q_i^{\"} \\le K],$$\n",
    "* $\\begin{equation*}\n",
    "[x < 0 ] \\equiv \n",
    " \\begin{cases}\n",
    "   1, &x < 0\\\\\n",
    "   0, &x \\geq 0\n",
    " \\end{cases}\n",
    "\\end{equation*}$ - индикаторная функция\n",
    "* $q_i$ - $i$-ый вопрос\n",
    "* $q_i^{\"}$ - его дубликат\n",
    "* $rank\\_q_i^{\"}$ - позиция дубликата в ранжированном списке ближайших предложений для вопроса $q_i$.\n",
    "\n",
    "#### DCG@K\n",
    "Второй метрикой будет упрощенная DCG метрика, учитывающая порядок элементов в списке путем домножения релевантности элемента на вес равный обратному логарифму номера позиции::\n",
    "$$ \\text{DCG@K} = \\frac{1}{N} \\sum_{i=1}^N\\frac{1}{\\log_2(1+rank\\_q_i^{\"})}\\cdot[rank\\_q_i^{\"} \\le K],$$\n",
    "С такой метрикой модель штрафуется за большой ранк корректного ответа"
   ]
  },
  {
   "cell_type": "markdown",
   "metadata": {
    "id": "eHCnH-jw6j18"
   },
   "source": [
    "#### Вопрос 3:\n",
    "* Максимум `Hits@47 - DCG@1`?"
   ]
  },
  {
   "cell_type": "markdown",
   "metadata": {
    "id": "_tFemBkP6j1-"
   },
   "source": [
    "<img src=\"https://hsto.org/files/1c5/edf/dee/1c5edfdeebce4b71a86bdf986d9f88f2.jpg\" width=400, height=200>"
   ]
  },
  {
   "cell_type": "markdown",
   "metadata": {
    "id": "0sUSxk866j1_"
   },
   "source": [
    "#### Пример оценок\n",
    "\n",
    "Вычислим описанные выше метрики для игрушечного примера. \n",
    "Пусть\n",
    "* $N = 1$, $R = 3$\n",
    "* <font color=\"green\">\"Что такое python?\"</font> - вопрос $q_1$\n",
    "* <font color=\"red\">\"Что такое язык python?\"</font> - его дубликат $q_i^{\"}$\n",
    "\n",
    "Пусть модель выдала следующий ранжированный список кандидатов:\n",
    "\n",
    "1. \"Как изучить с++?\"\n",
    "2. <font color=\"red\">\"Что такое язык python?\"</font>\n",
    "3. \"Хочу учить Java\"\n",
    "4. \"Не понимаю Tensorflow\"\n",
    "\n",
    "$\\Rightarrow rank\\_q_i^{\"} = 2$\n",
    "\n",
    "Вычислим метрику *Hits@K* для *K = 1, 4*:\n",
    "\n",
    "- [K = 1] $\\text{Hits@1} =  [rank\\_q_i^{\"} \\le 1)] = 0$\n",
    "- [K = 4] $\\text{Hits@4} =  [rank\\_q_i^{\"} \\le 4] = 1$\n",
    "\n",
    "Вычислим метрику *DCG@K* для *K = 1, 4*:\n",
    "- [K = 1] $\\text{DCG@1} = \\frac{1}{\\log_2(1+2)}\\cdot[2 \\le 1] = 0$\n",
    "- [K = 4] $\\text{DCG@4} = \\frac{1}{\\log_2(1+2)}\\cdot[2 \\le 4] = \\frac{1}{\\log_2{3}}$"
   ]
  },
  {
   "cell_type": "markdown",
   "metadata": {
    "id": "B4L6HJJC6j2B"
   },
   "source": [
    "#### Вопрос 4:\n",
    "* Вычислите `DCG@10`, если $rank\\_q_i^{\"} = 9$(округлите до одного знака после запятой)"
   ]
  },
  {
   "cell_type": "markdown",
   "metadata": {
    "id": "J5xWOORI6j2F"
   },
   "source": [
    "### HITS\\_COUNT и DCG\\_SCORE"
   ]
  },
  {
   "cell_type": "markdown",
   "metadata": {
    "id": "I1q9WQOx6j2H"
   },
   "source": [
    "Каждая функция имеет два аргумента: $dup\\_ranks$ и $k$. $dup\\_ranks$ является списком, который содержит рейтинги дубликатов(их позиции в ранжированном списке). Например, $dup\\_ranks = [2]$ для примера, описанного выше."
   ]
  },
  {
   "cell_type": "code",
   "execution_count": 12,
   "metadata": {
    "id": "F5VwySUB6j2J"
   },
   "outputs": [],
   "source": [
    "def hits_count(dup_ranks, k):\n",
    "    \"\"\"\n",
    "        dup_ranks: list индексов дубликатов\n",
    "        result: вернуть  Hits@k\n",
    "    \"\"\"\n",
    "    return np.mean((dup_ranks <= k).astype(int))"
   ]
  },
  {
   "cell_type": "code",
   "execution_count": 13,
   "metadata": {
    "id": "82hQaxCH6j2R"
   },
   "outputs": [],
   "source": [
    "def dcg_score(dup_ranks, k):\n",
    "    \"\"\"\n",
    "        dup_ranks: list индексов дубликатов\n",
    "        result: вернуть DCG@k\n",
    "    \"\"\"\n",
    "    return np.mean((dup_ranks <= k).astype(int) / np.log2(1 + dup_ranks))"
   ]
  },
  {
   "cell_type": "markdown",
   "metadata": {
    "id": "PcwHeXN26j2Y"
   },
   "source": [
    "Протестируем функции. Пусть $N = 1$, то есть один эксперимент. Будем искать копию вопроса и оценивать метрики."
   ]
  },
  {
   "cell_type": "code",
   "execution_count": 14,
   "metadata": {
    "id": "gLa_Wqfh6j2m"
   },
   "outputs": [
    {
     "name": "stdout",
     "output_type": "stream",
     "text": [
      "Ваш ответ HIT: [0.0, 1.0, 1.0, 1.0]\n",
      "Ваш ответ DCG: [0.0, 0.63093, 0.63093, 0.63093]\n"
     ]
    }
   ],
   "source": [
    "copy_answers = [\"How does the catch keyword determine the type of exception that was thrown\",]\n",
    "\n",
    "# наши кандидаты\n",
    "candidates_ranking = [[\"How Can I Make These Links Rotate in PHP\",\n",
    "                       \"How does the catch keyword determine the type of exception that was thrown\",\n",
    "                       \"NSLog array description not memory address\",\n",
    "                       \"PECL_HTTP not recognised php ubuntu\"],]\n",
    "# dup_ranks — позиции наших копий, так как эксперимент один, то этот массив длины 1\n",
    "_, _, dup_ranks = np.intersect1d(copy_answers, candidates_ranking, return_indices=True)\n",
    "dup_ranks += 1 # offset for non-programmer counting\n",
    "\n",
    "# вычисляем метрику для разных k\n",
    "print(\"Ваш ответ HIT:\", [hits_count(dup_ranks, k) for k in range(1, 5)])\n",
    "print(\"Ваш ответ DCG:\", [round(dcg_score(dup_ranks, k), 5) for k in range(1, 5)])"
   ]
  },
  {
   "cell_type": "markdown",
   "metadata": {
    "id": "MoHC3YoQ6j2t"
   },
   "source": [
    "У вас должно получиться"
   ]
  },
  {
   "cell_type": "code",
   "execution_count": 15,
   "metadata": {
    "id": "B0NFWq4f6j2u",
    "scrolled": true
   },
   "outputs": [
    {
     "data": {
      "text/html": [
       "<div>\n",
       "<style scoped>\n",
       "    .dataframe tbody tr th:only-of-type {\n",
       "        vertical-align: middle;\n",
       "    }\n",
       "\n",
       "    .dataframe tbody tr th {\n",
       "        vertical-align: top;\n",
       "    }\n",
       "\n",
       "    .dataframe thead th {\n",
       "        text-align: right;\n",
       "    }\n",
       "</style>\n",
       "<table border=\"1\" class=\"dataframe\">\n",
       "  <thead>\n",
       "    <tr style=\"text-align: right;\">\n",
       "      <th></th>\n",
       "      <th>1</th>\n",
       "      <th>2</th>\n",
       "      <th>3</th>\n",
       "      <th>4</th>\n",
       "    </tr>\n",
       "  </thead>\n",
       "  <tbody>\n",
       "    <tr>\n",
       "      <th>HITS</th>\n",
       "      <td>0</td>\n",
       "      <td>1.00000</td>\n",
       "      <td>1.00000</td>\n",
       "      <td>1.00000</td>\n",
       "    </tr>\n",
       "    <tr>\n",
       "      <th>DCG</th>\n",
       "      <td>0</td>\n",
       "      <td>0.63093</td>\n",
       "      <td>0.63093</td>\n",
       "      <td>0.63093</td>\n",
       "    </tr>\n",
       "  </tbody>\n",
       "</table>\n",
       "</div>"
      ],
      "text/plain": [
       "      1        2        3        4\n",
       "HITS  0  1.00000  1.00000  1.00000\n",
       "DCG   0  0.63093  0.63093  0.63093"
      ]
     },
     "execution_count": 15,
     "metadata": {},
     "output_type": "execute_result"
    }
   ],
   "source": [
    "# correct_answers - метрика для разных k\n",
    "correct_answers = pd.DataFrame([[0, 1, 1, 1], [0, 1 / (np.log2(3)), 1 / (np.log2(3)), 1 / (np.log2(3))]],\n",
    "                               index=[\"HITS\", \"DCG\"], columns=range(1,5))\n",
    "correct_answers"
   ]
  },
  {
   "cell_type": "markdown",
   "metadata": {
    "id": "tHZqgDTo6j0i"
   },
   "source": [
    "### Данные\n",
    "[arxiv link](https://drive.google.com/file/d/1QqT4D0EoqJTy7v9VrNCYD-m964XZFR7_/edit)\n",
    "\n",
    "`train.tsv` - выборка для обучения.<br> В каждой строке через табуляцию записаны: **<вопрос>, <похожий вопрос>**\n",
    "\n",
    "`validation.tsv` - тестовая выборка.<br> В каждой строке через табуляцию записаны: **<вопрос>, <похожий вопрос>, <отрицательный пример 1>, <отрицательный пример 2>, ...**"
   ]
  },
  {
   "cell_type": "code",
   "execution_count": 16,
   "metadata": {},
   "outputs": [],
   "source": [
    "if not (pathlib.Path(\"data/stackoverflow_similar_questions.zip\").is_file() \n",
    "        or (pathlib.Path(\"data/train.tsv\").is_file() and pathlib.Path(\"data/validation.tsv\").is_file())):\n",
    "    gdown.download(\"https://drive.google.com/uc?id=1QqT4D0EoqJTy7v9VrNCYD-m964XZFR7_\", \"data/stackoverflow_similar_questions.zip\", quiet=False)"
   ]
  },
  {
   "cell_type": "code",
   "execution_count": 17,
   "metadata": {
    "colab": {
     "base_uri": "https://localhost:8080/"
    },
    "executionInfo": {
     "elapsed": 28,
     "status": "ok",
     "timestamp": 1628256058346,
     "user": {
      "displayName": "Deep Learning School",
      "photoUrl": "https://lh3.googleusercontent.com/a-/AOh14GhNf0RkP5WvkU5MixKfC1Sv3mb-9QWgAbC6VcfQvA=s64",
      "userId": "16549096980415837553"
     },
     "user_tz": -180
    },
    "id": "jKVK2lDGvrIe",
    "outputId": "51944c9b-d6e8-41af-bec4-bb35fba5d51b",
    "tags": []
   },
   "outputs": [],
   "source": [
    "if not (pathlib.Path(\"data/train.tsv\").is_file() and pathlib.Path(\"data/validation.tsv\").is_file()):\n",
    "    !unzip stackoverflow_similar_questions.zip"
   ]
  },
  {
   "cell_type": "markdown",
   "metadata": {
    "id": "hil2UsUG6j22"
   },
   "source": [
    "Считайте данные."
   ]
  },
  {
   "cell_type": "code",
   "execution_count": 18,
   "metadata": {},
   "outputs": [],
   "source": [
    "def read_corpus(filename):\n",
    "    data = []\n",
    "    for line in open(filename, encoding=\"utf-8\"):\n",
    "        data.append(line.strip().split(\"\\t\"))\n",
    "    return data"
   ]
  },
  {
   "cell_type": "markdown",
   "metadata": {
    "id": "kkTxY3Mk9_nG"
   },
   "source": [
    "Нам понадобится только файл validation."
   ]
  },
  {
   "cell_type": "code",
   "execution_count": 19,
   "metadata": {
    "colab": {
     "base_uri": "https://localhost:8080/",
     "height": 274
    },
    "executionInfo": {
     "elapsed": 21,
     "status": "error",
     "timestamp": 1628256058355,
     "user": {
      "displayName": "Deep Learning School",
      "photoUrl": "https://lh3.googleusercontent.com/a-/AOh14GhNf0RkP5WvkU5MixKfC1Sv3mb-9QWgAbC6VcfQvA=s64",
      "userId": "16549096980415837553"
     },
     "user_tz": -180
    },
    "id": "PTVB9Tnp6j29",
    "outputId": "9c55c802-3d82-471d-eab2-195dabf5026c"
   },
   "outputs": [],
   "source": [
    "validation_data = pd.DataFrame(read_corpus(\"data/validation.tsv\")) # for some reason pandas fails on several lines"
   ]
  },
  {
   "cell_type": "markdown",
   "metadata": {
    "id": "bTHfL-9y6j3F"
   },
   "source": [
    "Кол-во строк"
   ]
  },
  {
   "cell_type": "code",
   "execution_count": 20,
   "metadata": {},
   "outputs": [
    {
     "data": {
      "text/plain": [
       "3760"
      ]
     },
     "execution_count": 20,
     "metadata": {},
     "output_type": "execute_result"
    }
   ],
   "source": [
    "len(validation_data)"
   ]
  },
  {
   "cell_type": "code",
   "execution_count": 21,
   "metadata": {},
   "outputs": [
    {
     "data": {
      "text/html": [
       "<div>\n",
       "<style scoped>\n",
       "    .dataframe tbody tr th:only-of-type {\n",
       "        vertical-align: middle;\n",
       "    }\n",
       "\n",
       "    .dataframe tbody tr th {\n",
       "        vertical-align: top;\n",
       "    }\n",
       "\n",
       "    .dataframe thead th {\n",
       "        text-align: right;\n",
       "    }\n",
       "</style>\n",
       "<table border=\"1\" class=\"dataframe\">\n",
       "  <thead>\n",
       "    <tr style=\"text-align: right;\">\n",
       "      <th></th>\n",
       "      <th>0</th>\n",
       "      <th>1</th>\n",
       "      <th>2</th>\n",
       "      <th>3</th>\n",
       "      <th>4</th>\n",
       "      <th>5</th>\n",
       "      <th>6</th>\n",
       "      <th>7</th>\n",
       "      <th>8</th>\n",
       "      <th>9</th>\n",
       "      <th>...</th>\n",
       "      <th>991</th>\n",
       "      <th>992</th>\n",
       "      <th>993</th>\n",
       "      <th>994</th>\n",
       "      <th>995</th>\n",
       "      <th>996</th>\n",
       "      <th>997</th>\n",
       "      <th>998</th>\n",
       "      <th>999</th>\n",
       "      <th>1000</th>\n",
       "    </tr>\n",
       "  </thead>\n",
       "  <tbody>\n",
       "    <tr>\n",
       "      <th>0</th>\n",
       "      <td>How to print a binary heap tree without recurs...</td>\n",
       "      <td>How do you best convert a recursive function t...</td>\n",
       "      <td>How can i use ng-model with directive in angul...</td>\n",
       "      <td>flash: drawing and erasing</td>\n",
       "      <td>toggle react component using hide show classname</td>\n",
       "      <td>Use a usercontrol from another project to curr...</td>\n",
       "      <td>~ Paths resolved differently after upgrading t...</td>\n",
       "      <td>Materialize datepicker - Rendering when an ico...</td>\n",
       "      <td>Creating PyPi package - Could not find a versi...</td>\n",
       "      <td>How can I analyze a confusion matrix?</td>\n",
       "      <td>...</td>\n",
       "      <td>JRuby 1.7.0 will not install bundler given ple...</td>\n",
       "      <td>solr multiple tokenizers for query</td>\n",
       "      <td>Is it possible to pass an EJS variable to an A...</td>\n",
       "      <td>How To Read Data using Ip Address</td>\n",
       "      <td>SSIS XML Decryption Message</td>\n",
       "      <td>Detecting selection change on a UITextView?</td>\n",
       "      <td>Different CSS background-image depending on mo...</td>\n",
       "      <td>What's the equivalent averageifs for standard ...</td>\n",
       "      <td>Segmentation faults using f2py</td>\n",
       "      <td>Eclipse: Most useful refactorings</td>\n",
       "    </tr>\n",
       "    <tr>\n",
       "      <th>1</th>\n",
       "      <td>How to start PhoneStateListener programmatically?</td>\n",
       "      <td>PhoneStateListener and service</td>\n",
       "      <td>Java cast object[] to model</td>\n",
       "      <td>WCF and What does this mean?</td>\n",
       "      <td>How to uncheck checkbox using jQuery Uniform l...</td>\n",
       "      <td>Two projects with same code base</td>\n",
       "      <td>Can't read php file when upload image to serve...</td>\n",
       "      <td>create pandas dataframe from dictionary of dic...</td>\n",
       "      <td>how to pass tkinter text to flex</td>\n",
       "      <td>runtime error project source code not found an...</td>\n",
       "      <td>...</td>\n",
       "      <td>setGraphic() not working correctly on recursiv...</td>\n",
       "      <td>Strange behaviour of sscanf with string</td>\n",
       "      <td>HTTP method for a WCF Restful Service</td>\n",
       "      <td>SubSonic .Filter() in memory filter</td>\n",
       "      <td>Does ASP.NET MVC use the regular toolbox contr...</td>\n",
       "      <td>How can I render a GSP as a String?</td>\n",
       "      <td>publishing ASP.Net MVC 4 Project</td>\n",
       "      <td>how to hyperlink to a TFS item from visual studio</td>\n",
       "      <td>mutex attribute PTHREAD_PROCESS_SHARED inverts...</td>\n",
       "      <td>Unable to call SOAP Webservice using jQuery</td>\n",
       "    </tr>\n",
       "    <tr>\n",
       "      <th>2</th>\n",
       "      <td>jQuery: Show a div2 when mousenter over div1 i...</td>\n",
       "      <td>when hover on div1 depenting on if it is on di...</td>\n",
       "      <td>How to run selenium in google app engine/cloud?</td>\n",
       "      <td>Python Comparing two lists of strings for simi...</td>\n",
       "      <td>Hazelcast creates 3 nodes/members when configu...</td>\n",
       "      <td>JSON-LD framing single object arrays</td>\n",
       "      <td>Is there a way to print to the console in an A...</td>\n",
       "      <td>Run server-side code on html button press in E...</td>\n",
       "      <td>Sorting an array by alphabetical order before ...</td>\n",
       "      <td>Node - Prevent child process from going in to ...</td>\n",
       "      <td>...</td>\n",
       "      <td>jpa Entity Metadata</td>\n",
       "      <td>How do you use the LaTeX blackboard font in MA...</td>\n",
       "      <td>Python - Importing a global/site-packages modu...</td>\n",
       "      <td>ISCC passing a parameter in the Compiler IDE</td>\n",
       "      <td>IE8 ignores \"filter\" CSS styles</td>\n",
       "      <td>Is there a way to load a webpage in pieces usi...</td>\n",
       "      <td>Requiring unknown module \"buffer\" in react-nat...</td>\n",
       "      <td>Eclipse, where to change the current debug lin...</td>\n",
       "      <td>How to wait and get text from another form in ...</td>\n",
       "      <td>HTML document width exceeds 100% when i increa...</td>\n",
       "    </tr>\n",
       "    <tr>\n",
       "      <th>3</th>\n",
       "      <td>Performing async method in a loop in node.js a...</td>\n",
       "      <td>Asynchronous sequence of events using promises</td>\n",
       "      <td>Django CMS - not able to upload images through...</td>\n",
       "      <td>Sorting an array by alphabetical order before ...</td>\n",
       "      <td>SQL, Microsoft SQl</td>\n",
       "      <td>call a function in place in Objective c</td>\n",
       "      <td>jquery .bind() and/or .ready() not working</td>\n",
       "      <td>How to filter a list of required elements in l...</td>\n",
       "      <td>my $self = shift in Perl; an explanation</td>\n",
       "      <td>Error: The digital signature of the Object did...</td>\n",
       "      <td>...</td>\n",
       "      <td>Recursion in C confusion</td>\n",
       "      <td>Finding duplicate values in r</td>\n",
       "      <td>Static variables in Android</td>\n",
       "      <td>Valid XPath expression</td>\n",
       "      <td>Is there a way to make controls transparent to...</td>\n",
       "      <td>Read csv, then enumerate</td>\n",
       "      <td>How to get weekly data from table?</td>\n",
       "      <td>How to perform an action only after data are d...</td>\n",
       "      <td>Why reduce the size of the Java JVM thread stack?</td>\n",
       "      <td>How can I focus on a Word document I just open...</td>\n",
       "    </tr>\n",
       "    <tr>\n",
       "      <th>4</th>\n",
       "      <td>UE4: output game frames to file</td>\n",
       "      <td>Unreal Engine 4: save rendered frame to memory</td>\n",
       "      <td>How to show an default text when an item of th...</td>\n",
       "      <td>simple beginner search program using arrays in...</td>\n",
       "      <td>When typing in editable ComboBox not showing D...</td>\n",
       "      <td>GMap.Net marker initially in incorrect position</td>\n",
       "      <td>What are we doing wrong with git?</td>\n",
       "      <td>LaTeX: remove blank page after a \\part or \\cha...</td>\n",
       "      <td>What is component level Module in Ionic 2</td>\n",
       "      <td>React to classes added via Jquery</td>\n",
       "      <td>...</td>\n",
       "      <td>How to get verbose messages of gradle sync?</td>\n",
       "      <td>Import data to a database with the same struct...</td>\n",
       "      <td>access master page from ascx control</td>\n",
       "      <td>Get all possible binary trees using Prolog?</td>\n",
       "      <td>How to play sound in a docker container</td>\n",
       "      <td>Google Maps API KML Placemarks not mapping to ...</td>\n",
       "      <td>How to share code between ruby refinements?</td>\n",
       "      <td>Selecting all CheckBoxes in ListBox not displa...</td>\n",
       "      <td>Is there a std::includes equivalent for unsort...</td>\n",
       "      <td>Breeze.Net Connecting to Entity Framework</td>\n",
       "    </tr>\n",
       "  </tbody>\n",
       "</table>\n",
       "<p>5 rows × 1001 columns</p>\n",
       "</div>"
      ],
      "text/plain": [
       "                                                0      \n",
       "0  How to print a binary heap tree without recurs...  \\\n",
       "1  How to start PhoneStateListener programmatically?   \n",
       "2  jQuery: Show a div2 when mousenter over div1 i...   \n",
       "3  Performing async method in a loop in node.js a...   \n",
       "4                    UE4: output game frames to file   \n",
       "\n",
       "                                                1      \n",
       "0  How do you best convert a recursive function t...  \\\n",
       "1                     PhoneStateListener and service   \n",
       "2  when hover on div1 depenting on if it is on di...   \n",
       "3     Asynchronous sequence of events using promises   \n",
       "4     Unreal Engine 4: save rendered frame to memory   \n",
       "\n",
       "                                                2      \n",
       "0  How can i use ng-model with directive in angul...  \\\n",
       "1                        Java cast object[] to model   \n",
       "2    How to run selenium in google app engine/cloud?   \n",
       "3  Django CMS - not able to upload images through...   \n",
       "4  How to show an default text when an item of th...   \n",
       "\n",
       "                                                3      \n",
       "0                         flash: drawing and erasing  \\\n",
       "1                       WCF and What does this mean?   \n",
       "2  Python Comparing two lists of strings for simi...   \n",
       "3  Sorting an array by alphabetical order before ...   \n",
       "4  simple beginner search program using arrays in...   \n",
       "\n",
       "                                                4      \n",
       "0   toggle react component using hide show classname  \\\n",
       "1  How to uncheck checkbox using jQuery Uniform l...   \n",
       "2  Hazelcast creates 3 nodes/members when configu...   \n",
       "3                                 SQL, Microsoft SQl   \n",
       "4  When typing in editable ComboBox not showing D...   \n",
       "\n",
       "                                                5      \n",
       "0  Use a usercontrol from another project to curr...  \\\n",
       "1                   Two projects with same code base   \n",
       "2               JSON-LD framing single object arrays   \n",
       "3            call a function in place in Objective c   \n",
       "4    GMap.Net marker initially in incorrect position   \n",
       "\n",
       "                                                6      \n",
       "0  ~ Paths resolved differently after upgrading t...  \\\n",
       "1  Can't read php file when upload image to serve...   \n",
       "2  Is there a way to print to the console in an A...   \n",
       "3         jquery .bind() and/or .ready() not working   \n",
       "4                  What are we doing wrong with git?   \n",
       "\n",
       "                                                7      \n",
       "0  Materialize datepicker - Rendering when an ico...  \\\n",
       "1  create pandas dataframe from dictionary of dic...   \n",
       "2  Run server-side code on html button press in E...   \n",
       "3  How to filter a list of required elements in l...   \n",
       "4  LaTeX: remove blank page after a \\part or \\cha...   \n",
       "\n",
       "                                                8      \n",
       "0  Creating PyPi package - Could not find a versi...  \\\n",
       "1                   how to pass tkinter text to flex   \n",
       "2  Sorting an array by alphabetical order before ...   \n",
       "3           my $self = shift in Perl; an explanation   \n",
       "4          What is component level Module in Ionic 2   \n",
       "\n",
       "                                                9     ...   \n",
       "0              How can I analyze a confusion matrix?  ...  \\\n",
       "1  runtime error project source code not found an...  ...   \n",
       "2  Node - Prevent child process from going in to ...  ...   \n",
       "3  Error: The digital signature of the Object did...  ...   \n",
       "4                  React to classes added via Jquery  ...   \n",
       "\n",
       "                                                991    \n",
       "0  JRuby 1.7.0 will not install bundler given ple...  \\\n",
       "1  setGraphic() not working correctly on recursiv...   \n",
       "2                                jpa Entity Metadata   \n",
       "3                           Recursion in C confusion   \n",
       "4        How to get verbose messages of gradle sync?   \n",
       "\n",
       "                                                992    \n",
       "0                 solr multiple tokenizers for query  \\\n",
       "1            Strange behaviour of sscanf with string   \n",
       "2  How do you use the LaTeX blackboard font in MA...   \n",
       "3                      Finding duplicate values in r   \n",
       "4  Import data to a database with the same struct...   \n",
       "\n",
       "                                                993    \n",
       "0  Is it possible to pass an EJS variable to an A...  \\\n",
       "1              HTTP method for a WCF Restful Service   \n",
       "2  Python - Importing a global/site-packages modu...   \n",
       "3                        Static variables in Android   \n",
       "4               access master page from ascx control   \n",
       "\n",
       "                                           994    \n",
       "0             How To Read Data using Ip Address  \\\n",
       "1           SubSonic .Filter() in memory filter   \n",
       "2  ISCC passing a parameter in the Compiler IDE   \n",
       "3                        Valid XPath expression   \n",
       "4   Get all possible binary trees using Prolog?   \n",
       "\n",
       "                                                995    \n",
       "0                        SSIS XML Decryption Message  \\\n",
       "1  Does ASP.NET MVC use the regular toolbox contr...   \n",
       "2                    IE8 ignores \"filter\" CSS styles   \n",
       "3  Is there a way to make controls transparent to...   \n",
       "4            How to play sound in a docker container   \n",
       "\n",
       "                                                996    \n",
       "0        Detecting selection change on a UITextView?  \\\n",
       "1                How can I render a GSP as a String?   \n",
       "2  Is there a way to load a webpage in pieces usi...   \n",
       "3                           Read csv, then enumerate   \n",
       "4  Google Maps API KML Placemarks not mapping to ...   \n",
       "\n",
       "                                                997    \n",
       "0  Different CSS background-image depending on mo...  \\\n",
       "1                   publishing ASP.Net MVC 4 Project   \n",
       "2  Requiring unknown module \"buffer\" in react-nat...   \n",
       "3                 How to get weekly data from table?   \n",
       "4        How to share code between ruby refinements?   \n",
       "\n",
       "                                                998    \n",
       "0  What's the equivalent averageifs for standard ...  \\\n",
       "1  how to hyperlink to a TFS item from visual studio   \n",
       "2  Eclipse, where to change the current debug lin...   \n",
       "3  How to perform an action only after data are d...   \n",
       "4  Selecting all CheckBoxes in ListBox not displa...   \n",
       "\n",
       "                                                999    \n",
       "0                     Segmentation faults using f2py  \\\n",
       "1  mutex attribute PTHREAD_PROCESS_SHARED inverts...   \n",
       "2  How to wait and get text from another form in ...   \n",
       "3  Why reduce the size of the Java JVM thread stack?   \n",
       "4  Is there a std::includes equivalent for unsort...   \n",
       "\n",
       "                                                1000  \n",
       "0                  Eclipse: Most useful refactorings  \n",
       "1        Unable to call SOAP Webservice using jQuery  \n",
       "2  HTML document width exceeds 100% when i increa...  \n",
       "3  How can I focus on a Word document I just open...  \n",
       "4          Breeze.Net Connecting to Entity Framework  \n",
       "\n",
       "[5 rows x 1001 columns]"
      ]
     },
     "execution_count": 21,
     "metadata": {},
     "output_type": "execute_result"
    }
   ],
   "source": [
    "validation_data.head()"
   ]
  },
  {
   "cell_type": "markdown",
   "metadata": {
    "id": "ySQQp0oQt1Ep"
   },
   "source": [
    "### Ранжирование без обучения"
   ]
  },
  {
   "cell_type": "markdown",
   "metadata": {
    "id": "iElEDhj-6j3R"
   },
   "source": [
    "Реализуйте функцию ранжирования кандидатов на основе косинусного расстояния. Функция должна по списку кандидатов вернуть отсортированный список пар (позиция в исходном списке кандидатов, кандидат). При этом позиция кандидата в полученном списке является его рейтингом (первый - лучший). Например, если исходный список кандидатов был [a, b, c], и самый похожий на исходный вопрос среди них - c, затем a, и в конце b, то функция должна вернуть список **[(2, c), (0, a), (1, b)]**."
   ]
  },
  {
   "cell_type": "code",
   "execution_count": 22,
   "metadata": {
    "id": "1yP8wJWj6j3X"
   },
   "outputs": [],
   "source": [
    "def rank_candidates(question, candidates, embeddings, tokenizer, dim=200):\n",
    "    \"\"\"\n",
    "        question: строка\n",
    "        candidates: массив строк(кандидатов) [a, b, c]\n",
    "        result: пары (начальная позиция, кандидат) [(2, c), (0, a), (1, b)]\n",
    "    \"\"\"\n",
    "    question_embedding = question_to_vec(question, embeddings, tokenizer, dim)\n",
    "    cosine_similarities = sklearn.metrics.pairwise.cosine_similarity([question_embedding],\n",
    "                                            [question_to_vec(i, embeddings, tokenizer, dim) for i in candidates])[0]\n",
    "    ranks = sorted([(i, x, y) for i, (x, y) in enumerate(list(zip(candidates, cosine_similarities)))], key=lambda x: x[-1], reverse=True)\n",
    "    return [i[:-1] for i in ranks]"
   ]
  },
  {
   "cell_type": "markdown",
   "metadata": {
    "id": "TnBszTb76j3c"
   },
   "source": [
    "Протестируйте работу функции на примерах ниже. Пусть $N=2$, то есть два эксперимента"
   ]
  },
  {
   "cell_type": "code",
   "execution_count": 23,
   "metadata": {
    "id": "xvQgtP176j3h"
   },
   "outputs": [],
   "source": [
    "questions = [\"converting string to list\", \"Sending array via Ajax fails\"] \n",
    "\n",
    "candidates = [[\"Convert Google results object (pure js) to Python object\", # первый эксперимент\n",
    "               \"C# create cookie from string and send it\",\n",
    "               \"How to use jQuery AJAX for an outside domain?\"],\n",
    "              \n",
    "              [\"Getting all list items of an unordered list in PHP\",      # второй эксперимент\n",
    "               \"WPF- How to update the changes in list item of a list\",\n",
    "               \"select2 not displaying search results\"]]"
   ]
  },
  {
   "cell_type": "code",
   "execution_count": 24,
   "metadata": {
    "id": "bPj1JGFi6j3m"
   },
   "outputs": [
    {
     "name": "stdout",
     "output_type": "stream",
     "text": [
      "[(1, 'C# create cookie from string and send it'), (0, 'Convert Google results object (pure js) to Python object'), (2, 'How to use jQuery AJAX for an outside domain?')]\n",
      "\n",
      "[(1, 'WPF- How to update the changes in list item of a list'), (0, 'Getting all list items of an unordered list in PHP'), (2, 'select2 not displaying search results')]\n",
      "\n"
     ]
    }
   ],
   "source": [
    "for question, q_candidates in zip(questions, candidates):\n",
    "        ranks = rank_candidates(question, q_candidates, wv_embeddings, tokenizer)\n",
    "        print(ranks)\n",
    "        print()"
   ]
  },
  {
   "cell_type": "markdown",
   "metadata": {
    "id": "jm4cidj56j3q"
   },
   "source": [
    "Для первого экперимента вы можете полностью сравнить ваши ответы и правильные ответы. Но для второго эксперимента два ответа на кандидаты будут <b>скрыты</b>(*)"
   ]
  },
  {
   "cell_type": "markdown",
   "metadata": {
    "id": "0LeKMIsn6j3s"
   },
   "source": [
    "Должно вывести:\n",
    "```\n",
    "results = [[(1, \"C# create cookie from string and send it\"),\n",
    "            (0, \"Convert Google results object (pure js) to Python object\"),\n",
    "            (2, \"How to use jQuery AJAX for an outside domain?\")],\n",
    "           [(*, \"Getting all list items of an unordered list in PHP\"), #скрыт\n",
    "            (*, \"select2 not displaying search results\"), #скрыт\n",
    "            (*, \"WPF- How to update the changes in list item of a list\")]] #скрыт\n",
    "```"
   ]
  },
  {
   "cell_type": "markdown",
   "metadata": {
    "id": "t1ttnIBe6j3x"
   },
   "source": [
    "Последовательность начальных индексов вы должны получить `для эксперимента 1`  1, 0, 2."
   ]
  },
  {
   "cell_type": "markdown",
   "metadata": {
    "id": "5WQgYDWd6j3y"
   },
   "source": [
    "#### Вопрос 5:\n",
    "* Какую последовательность начальных индексов вы получили `для эксперимента 2`(перечисление без запятой и пробелов, например, `102` для первого эксперимента?"
   ]
  },
  {
   "cell_type": "markdown",
   "metadata": {},
   "source": [
    "`102`"
   ]
  },
  {
   "cell_type": "markdown",
   "metadata": {
    "id": "fPllOY-Y6j30"
   },
   "source": [
    "Теперь мы можем оценить качество нашего метода. Запустите следующие два блока кода для получения результата. Обратите внимание, что вычисление расстояния между векторами занимает некоторое время (примерно 10 минут). Можете взять для validation 1000 примеров."
   ]
  },
  {
   "cell_type": "code",
   "execution_count": 25,
   "metadata": {},
   "outputs": [
    {
     "data": {
      "text/html": [
       "<div>\n",
       "<style scoped>\n",
       "    .dataframe tbody tr th:only-of-type {\n",
       "        vertical-align: middle;\n",
       "    }\n",
       "\n",
       "    .dataframe tbody tr th {\n",
       "        vertical-align: top;\n",
       "    }\n",
       "\n",
       "    .dataframe thead th {\n",
       "        text-align: right;\n",
       "    }\n",
       "</style>\n",
       "<table border=\"1\" class=\"dataframe\">\n",
       "  <thead>\n",
       "    <tr style=\"text-align: right;\">\n",
       "      <th></th>\n",
       "      <th>0</th>\n",
       "      <th>1</th>\n",
       "      <th>2</th>\n",
       "      <th>3</th>\n",
       "      <th>4</th>\n",
       "      <th>5</th>\n",
       "      <th>6</th>\n",
       "      <th>7</th>\n",
       "      <th>8</th>\n",
       "      <th>9</th>\n",
       "      <th>...</th>\n",
       "      <th>991</th>\n",
       "      <th>992</th>\n",
       "      <th>993</th>\n",
       "      <th>994</th>\n",
       "      <th>995</th>\n",
       "      <th>996</th>\n",
       "      <th>997</th>\n",
       "      <th>998</th>\n",
       "      <th>999</th>\n",
       "      <th>1000</th>\n",
       "    </tr>\n",
       "  </thead>\n",
       "  <tbody>\n",
       "    <tr>\n",
       "      <th>0</th>\n",
       "      <td>How to print a binary heap tree without recurs...</td>\n",
       "      <td>How do you best convert a recursive function t...</td>\n",
       "      <td>How can i use ng-model with directive in angul...</td>\n",
       "      <td>flash: drawing and erasing</td>\n",
       "      <td>toggle react component using hide show classname</td>\n",
       "      <td>Use a usercontrol from another project to curr...</td>\n",
       "      <td>~ Paths resolved differently after upgrading t...</td>\n",
       "      <td>Materialize datepicker - Rendering when an ico...</td>\n",
       "      <td>Creating PyPi package - Could not find a versi...</td>\n",
       "      <td>How can I analyze a confusion matrix?</td>\n",
       "      <td>...</td>\n",
       "      <td>JRuby 1.7.0 will not install bundler given ple...</td>\n",
       "      <td>solr multiple tokenizers for query</td>\n",
       "      <td>Is it possible to pass an EJS variable to an A...</td>\n",
       "      <td>How To Read Data using Ip Address</td>\n",
       "      <td>SSIS XML Decryption Message</td>\n",
       "      <td>Detecting selection change on a UITextView?</td>\n",
       "      <td>Different CSS background-image depending on mo...</td>\n",
       "      <td>What's the equivalent averageifs for standard ...</td>\n",
       "      <td>Segmentation faults using f2py</td>\n",
       "      <td>Eclipse: Most useful refactorings</td>\n",
       "    </tr>\n",
       "    <tr>\n",
       "      <th>1</th>\n",
       "      <td>How to start PhoneStateListener programmatically?</td>\n",
       "      <td>PhoneStateListener and service</td>\n",
       "      <td>Java cast object[] to model</td>\n",
       "      <td>WCF and What does this mean?</td>\n",
       "      <td>How to uncheck checkbox using jQuery Uniform l...</td>\n",
       "      <td>Two projects with same code base</td>\n",
       "      <td>Can't read php file when upload image to serve...</td>\n",
       "      <td>create pandas dataframe from dictionary of dic...</td>\n",
       "      <td>how to pass tkinter text to flex</td>\n",
       "      <td>runtime error project source code not found an...</td>\n",
       "      <td>...</td>\n",
       "      <td>setGraphic() not working correctly on recursiv...</td>\n",
       "      <td>Strange behaviour of sscanf with string</td>\n",
       "      <td>HTTP method for a WCF Restful Service</td>\n",
       "      <td>SubSonic .Filter() in memory filter</td>\n",
       "      <td>Does ASP.NET MVC use the regular toolbox contr...</td>\n",
       "      <td>How can I render a GSP as a String?</td>\n",
       "      <td>publishing ASP.Net MVC 4 Project</td>\n",
       "      <td>how to hyperlink to a TFS item from visual studio</td>\n",
       "      <td>mutex attribute PTHREAD_PROCESS_SHARED inverts...</td>\n",
       "      <td>Unable to call SOAP Webservice using jQuery</td>\n",
       "    </tr>\n",
       "    <tr>\n",
       "      <th>2</th>\n",
       "      <td>jQuery: Show a div2 when mousenter over div1 i...</td>\n",
       "      <td>when hover on div1 depenting on if it is on di...</td>\n",
       "      <td>How to run selenium in google app engine/cloud?</td>\n",
       "      <td>Python Comparing two lists of strings for simi...</td>\n",
       "      <td>Hazelcast creates 3 nodes/members when configu...</td>\n",
       "      <td>JSON-LD framing single object arrays</td>\n",
       "      <td>Is there a way to print to the console in an A...</td>\n",
       "      <td>Run server-side code on html button press in E...</td>\n",
       "      <td>Sorting an array by alphabetical order before ...</td>\n",
       "      <td>Node - Prevent child process from going in to ...</td>\n",
       "      <td>...</td>\n",
       "      <td>jpa Entity Metadata</td>\n",
       "      <td>How do you use the LaTeX blackboard font in MA...</td>\n",
       "      <td>Python - Importing a global/site-packages modu...</td>\n",
       "      <td>ISCC passing a parameter in the Compiler IDE</td>\n",
       "      <td>IE8 ignores \"filter\" CSS styles</td>\n",
       "      <td>Is there a way to load a webpage in pieces usi...</td>\n",
       "      <td>Requiring unknown module \"buffer\" in react-nat...</td>\n",
       "      <td>Eclipse, where to change the current debug lin...</td>\n",
       "      <td>How to wait and get text from another form in ...</td>\n",
       "      <td>HTML document width exceeds 100% when i increa...</td>\n",
       "    </tr>\n",
       "    <tr>\n",
       "      <th>3</th>\n",
       "      <td>Performing async method in a loop in node.js a...</td>\n",
       "      <td>Asynchronous sequence of events using promises</td>\n",
       "      <td>Django CMS - not able to upload images through...</td>\n",
       "      <td>Sorting an array by alphabetical order before ...</td>\n",
       "      <td>SQL, Microsoft SQl</td>\n",
       "      <td>call a function in place in Objective c</td>\n",
       "      <td>jquery .bind() and/or .ready() not working</td>\n",
       "      <td>How to filter a list of required elements in l...</td>\n",
       "      <td>my $self = shift in Perl; an explanation</td>\n",
       "      <td>Error: The digital signature of the Object did...</td>\n",
       "      <td>...</td>\n",
       "      <td>Recursion in C confusion</td>\n",
       "      <td>Finding duplicate values in r</td>\n",
       "      <td>Static variables in Android</td>\n",
       "      <td>Valid XPath expression</td>\n",
       "      <td>Is there a way to make controls transparent to...</td>\n",
       "      <td>Read csv, then enumerate</td>\n",
       "      <td>How to get weekly data from table?</td>\n",
       "      <td>How to perform an action only after data are d...</td>\n",
       "      <td>Why reduce the size of the Java JVM thread stack?</td>\n",
       "      <td>How can I focus on a Word document I just open...</td>\n",
       "    </tr>\n",
       "    <tr>\n",
       "      <th>4</th>\n",
       "      <td>UE4: output game frames to file</td>\n",
       "      <td>Unreal Engine 4: save rendered frame to memory</td>\n",
       "      <td>How to show an default text when an item of th...</td>\n",
       "      <td>simple beginner search program using arrays in...</td>\n",
       "      <td>When typing in editable ComboBox not showing D...</td>\n",
       "      <td>GMap.Net marker initially in incorrect position</td>\n",
       "      <td>What are we doing wrong with git?</td>\n",
       "      <td>LaTeX: remove blank page after a \\part or \\cha...</td>\n",
       "      <td>What is component level Module in Ionic 2</td>\n",
       "      <td>React to classes added via Jquery</td>\n",
       "      <td>...</td>\n",
       "      <td>How to get verbose messages of gradle sync?</td>\n",
       "      <td>Import data to a database with the same struct...</td>\n",
       "      <td>access master page from ascx control</td>\n",
       "      <td>Get all possible binary trees using Prolog?</td>\n",
       "      <td>How to play sound in a docker container</td>\n",
       "      <td>Google Maps API KML Placemarks not mapping to ...</td>\n",
       "      <td>How to share code between ruby refinements?</td>\n",
       "      <td>Selecting all CheckBoxes in ListBox not displa...</td>\n",
       "      <td>Is there a std::includes equivalent for unsort...</td>\n",
       "      <td>Breeze.Net Connecting to Entity Framework</td>\n",
       "    </tr>\n",
       "  </tbody>\n",
       "</table>\n",
       "<p>5 rows × 1001 columns</p>\n",
       "</div>"
      ],
      "text/plain": [
       "                                                0      \n",
       "0  How to print a binary heap tree without recurs...  \\\n",
       "1  How to start PhoneStateListener programmatically?   \n",
       "2  jQuery: Show a div2 when mousenter over div1 i...   \n",
       "3  Performing async method in a loop in node.js a...   \n",
       "4                    UE4: output game frames to file   \n",
       "\n",
       "                                                1      \n",
       "0  How do you best convert a recursive function t...  \\\n",
       "1                     PhoneStateListener and service   \n",
       "2  when hover on div1 depenting on if it is on di...   \n",
       "3     Asynchronous sequence of events using promises   \n",
       "4     Unreal Engine 4: save rendered frame to memory   \n",
       "\n",
       "                                                2      \n",
       "0  How can i use ng-model with directive in angul...  \\\n",
       "1                        Java cast object[] to model   \n",
       "2    How to run selenium in google app engine/cloud?   \n",
       "3  Django CMS - not able to upload images through...   \n",
       "4  How to show an default text when an item of th...   \n",
       "\n",
       "                                                3      \n",
       "0                         flash: drawing and erasing  \\\n",
       "1                       WCF and What does this mean?   \n",
       "2  Python Comparing two lists of strings for simi...   \n",
       "3  Sorting an array by alphabetical order before ...   \n",
       "4  simple beginner search program using arrays in...   \n",
       "\n",
       "                                                4      \n",
       "0   toggle react component using hide show classname  \\\n",
       "1  How to uncheck checkbox using jQuery Uniform l...   \n",
       "2  Hazelcast creates 3 nodes/members when configu...   \n",
       "3                                 SQL, Microsoft SQl   \n",
       "4  When typing in editable ComboBox not showing D...   \n",
       "\n",
       "                                                5      \n",
       "0  Use a usercontrol from another project to curr...  \\\n",
       "1                   Two projects with same code base   \n",
       "2               JSON-LD framing single object arrays   \n",
       "3            call a function in place in Objective c   \n",
       "4    GMap.Net marker initially in incorrect position   \n",
       "\n",
       "                                                6      \n",
       "0  ~ Paths resolved differently after upgrading t...  \\\n",
       "1  Can't read php file when upload image to serve...   \n",
       "2  Is there a way to print to the console in an A...   \n",
       "3         jquery .bind() and/or .ready() not working   \n",
       "4                  What are we doing wrong with git?   \n",
       "\n",
       "                                                7      \n",
       "0  Materialize datepicker - Rendering when an ico...  \\\n",
       "1  create pandas dataframe from dictionary of dic...   \n",
       "2  Run server-side code on html button press in E...   \n",
       "3  How to filter a list of required elements in l...   \n",
       "4  LaTeX: remove blank page after a \\part or \\cha...   \n",
       "\n",
       "                                                8      \n",
       "0  Creating PyPi package - Could not find a versi...  \\\n",
       "1                   how to pass tkinter text to flex   \n",
       "2  Sorting an array by alphabetical order before ...   \n",
       "3           my $self = shift in Perl; an explanation   \n",
       "4          What is component level Module in Ionic 2   \n",
       "\n",
       "                                                9     ...   \n",
       "0              How can I analyze a confusion matrix?  ...  \\\n",
       "1  runtime error project source code not found an...  ...   \n",
       "2  Node - Prevent child process from going in to ...  ...   \n",
       "3  Error: The digital signature of the Object did...  ...   \n",
       "4                  React to classes added via Jquery  ...   \n",
       "\n",
       "                                                991    \n",
       "0  JRuby 1.7.0 will not install bundler given ple...  \\\n",
       "1  setGraphic() not working correctly on recursiv...   \n",
       "2                                jpa Entity Metadata   \n",
       "3                           Recursion in C confusion   \n",
       "4        How to get verbose messages of gradle sync?   \n",
       "\n",
       "                                                992    \n",
       "0                 solr multiple tokenizers for query  \\\n",
       "1            Strange behaviour of sscanf with string   \n",
       "2  How do you use the LaTeX blackboard font in MA...   \n",
       "3                      Finding duplicate values in r   \n",
       "4  Import data to a database with the same struct...   \n",
       "\n",
       "                                                993    \n",
       "0  Is it possible to pass an EJS variable to an A...  \\\n",
       "1              HTTP method for a WCF Restful Service   \n",
       "2  Python - Importing a global/site-packages modu...   \n",
       "3                        Static variables in Android   \n",
       "4               access master page from ascx control   \n",
       "\n",
       "                                           994    \n",
       "0             How To Read Data using Ip Address  \\\n",
       "1           SubSonic .Filter() in memory filter   \n",
       "2  ISCC passing a parameter in the Compiler IDE   \n",
       "3                        Valid XPath expression   \n",
       "4   Get all possible binary trees using Prolog?   \n",
       "\n",
       "                                                995    \n",
       "0                        SSIS XML Decryption Message  \\\n",
       "1  Does ASP.NET MVC use the regular toolbox contr...   \n",
       "2                    IE8 ignores \"filter\" CSS styles   \n",
       "3  Is there a way to make controls transparent to...   \n",
       "4            How to play sound in a docker container   \n",
       "\n",
       "                                                996    \n",
       "0        Detecting selection change on a UITextView?  \\\n",
       "1                How can I render a GSP as a String?   \n",
       "2  Is there a way to load a webpage in pieces usi...   \n",
       "3                           Read csv, then enumerate   \n",
       "4  Google Maps API KML Placemarks not mapping to ...   \n",
       "\n",
       "                                                997    \n",
       "0  Different CSS background-image depending on mo...  \\\n",
       "1                   publishing ASP.Net MVC 4 Project   \n",
       "2  Requiring unknown module \"buffer\" in react-nat...   \n",
       "3                 How to get weekly data from table?   \n",
       "4        How to share code between ruby refinements?   \n",
       "\n",
       "                                                998    \n",
       "0  What's the equivalent averageifs for standard ...  \\\n",
       "1  how to hyperlink to a TFS item from visual studio   \n",
       "2  Eclipse, where to change the current debug lin...   \n",
       "3  How to perform an action only after data are d...   \n",
       "4  Selecting all CheckBoxes in ListBox not displa...   \n",
       "\n",
       "                                                999    \n",
       "0                     Segmentation faults using f2py  \\\n",
       "1  mutex attribute PTHREAD_PROCESS_SHARED inverts...   \n",
       "2  How to wait and get text from another form in ...   \n",
       "3  Why reduce the size of the Java JVM thread stack?   \n",
       "4  Is there a std::includes equivalent for unsort...   \n",
       "\n",
       "                                                1000  \n",
       "0                  Eclipse: Most useful refactorings  \n",
       "1        Unable to call SOAP Webservice using jQuery  \n",
       "2  HTML document width exceeds 100% when i increa...  \n",
       "3  How can I focus on a Word document I just open...  \n",
       "4          Breeze.Net Connecting to Entity Framework  \n",
       "\n",
       "[5 rows x 1001 columns]"
      ]
     },
     "execution_count": 25,
     "metadata": {},
     "output_type": "execute_result"
    }
   ],
   "source": [
    "validation_data.head()"
   ]
  },
  {
   "cell_type": "code",
   "execution_count": 26,
   "metadata": {
    "id": "nu7K4mis6j32"
   },
   "outputs": [
    {
     "data": {
      "application/vnd.jupyter.widget-view+json": {
       "model_id": "fdab0c13d41c420aadf56f171271aa28",
       "version_major": 2,
       "version_minor": 0
      },
      "text/plain": [
       "Ranking candidates:   0%|          | 0/1000 [00:00<?, ?question(s)/s]"
      ]
     },
     "metadata": {},
     "output_type": "display_data"
    }
   ],
   "source": [
    "def create_dataset_ranking(data, embeddings, tokenizer, max_validation_examples=1000):\n",
    "    wv_ranking = []\n",
    "    q = data.iloc[:, 0]\n",
    "    ex = data.iloc[:, 1:]\n",
    "    wv_ranking = [rank_candidates(question_i, candidates_i, embeddings, tokenizer)\n",
    "                  for question_i, candidates_i in tqdm.tqdm(zip(\n",
    "                      q.values.tolist()[:max_validation_examples], \n",
    "                      ex.values.tolist()[:max_validation_examples]), \n",
    "                                                       total=max_validation_examples, \n",
    "                                                       desc=\"Ranking candidates\", \n",
    "                                                       unit=\"question(s)\", \n",
    "                                                       unit_scale=False)]\n",
    "    wv_ranking = np.asarray([i[0][0] + 1 for i in wv_ranking])\n",
    "    return wv_ranking\n",
    "wv_ranking = create_dataset_ranking(validation_data, wv_embeddings, tokenizer)"
   ]
  },
  {
   "cell_type": "code",
   "execution_count": 27,
   "metadata": {
    "id": "gDtS520v6j35",
    "scrolled": true
   },
   "outputs": [],
   "source": [
    "def print_metrics(ranking):\n",
    "    for k in tqdm.tqdm([1, 5, 10, 100, 500, 1000]):\n",
    "        print(\"DCG@%4d: %.3f | Hits@%4d: %.3f\" % (k, dcg_score(ranking, k), k, hits_count(ranking, k)))"
   ]
  },
  {
   "cell_type": "code",
   "execution_count": 28,
   "metadata": {},
   "outputs": [
    {
     "data": {
      "application/vnd.jupyter.widget-view+json": {
       "model_id": "7243cb6cc97245a29eead0d6c60f9451",
       "version_major": 2,
       "version_minor": 0
      },
      "text/plain": [
       "  0%|          | 0/6 [00:00<?, ?it/s]"
      ]
     },
     "metadata": {},
     "output_type": "display_data"
    },
    {
     "name": "stdout",
     "output_type": "stream",
     "text": [
      "DCG@   1: 0.276 | Hits@   1: 0.276\n",
      "DCG@   5: 0.278 | Hits@   5: 0.280\n",
      "DCG@  10: 0.280 | Hits@  10: 0.285\n",
      "DCG@ 100: 0.290 | Hits@ 100: 0.339\n",
      "DCG@ 500: 0.328 | Hits@ 500: 0.648\n",
      "DCG@1000: 0.365 | Hits@1000: 1.000\n"
     ]
    }
   ],
   "source": [
    "print_metrics(wv_ranking)"
   ]
  },
  {
   "cell_type": "code",
   "execution_count": 29,
   "metadata": {},
   "outputs": [
    {
     "data": {
      "text/plain": [
       "1041"
      ]
     },
     "execution_count": 29,
     "metadata": {},
     "output_type": "execute_result"
    }
   ],
   "source": [
    "del wv_embeddings\n",
    "del wv_ranking\n",
    "gc.collect()"
   ]
  },
  {
   "cell_type": "markdown",
   "metadata": {
    "id": "LL6_Rjg3InL8"
   },
   "source": [
    "### Эмбеддинги, обученные на корпусе похожих вопросов"
   ]
  },
  {
   "cell_type": "code",
   "execution_count": 30,
   "metadata": {
    "id": "iNvbpR5gJIPz"
   },
   "outputs": [
    {
     "data": {
      "text/html": [
       "<div>\n",
       "<style scoped>\n",
       "    .dataframe tbody tr th:only-of-type {\n",
       "        vertical-align: middle;\n",
       "    }\n",
       "\n",
       "    .dataframe tbody tr th {\n",
       "        vertical-align: top;\n",
       "    }\n",
       "\n",
       "    .dataframe thead th {\n",
       "        text-align: right;\n",
       "    }\n",
       "</style>\n",
       "<table border=\"1\" class=\"dataframe\">\n",
       "  <thead>\n",
       "    <tr style=\"text-align: right;\">\n",
       "      <th></th>\n",
       "      <th>0</th>\n",
       "      <th>1</th>\n",
       "    </tr>\n",
       "  </thead>\n",
       "  <tbody>\n",
       "    <tr>\n",
       "      <th>0</th>\n",
       "      <td>converting string to list</td>\n",
       "      <td>Convert Google results object (pure js) to Pyt...</td>\n",
       "    </tr>\n",
       "    <tr>\n",
       "      <th>1</th>\n",
       "      <td>Which HTML 5 Canvas Javascript to use for maki...</td>\n",
       "      <td>Event handling for geometries in Three.js?</td>\n",
       "    </tr>\n",
       "    <tr>\n",
       "      <th>2</th>\n",
       "      <td>Sending array via Ajax fails</td>\n",
       "      <td>Getting all list items of an unordered list in...</td>\n",
       "    </tr>\n",
       "    <tr>\n",
       "      <th>3</th>\n",
       "      <td>How to insert CookieCollection to CookieContai...</td>\n",
       "      <td>C# create cookie from string and send it</td>\n",
       "    </tr>\n",
       "    <tr>\n",
       "      <th>4</th>\n",
       "      <td>Updating one element of a bound Observable col...</td>\n",
       "      <td>WPF- How to update the changes in list item of...</td>\n",
       "    </tr>\n",
       "  </tbody>\n",
       "</table>\n",
       "</div>"
      ],
      "text/plain": [
       "                                                   0   \n",
       "0                          converting string to list  \\\n",
       "1  Which HTML 5 Canvas Javascript to use for maki...   \n",
       "2                       Sending array via Ajax fails   \n",
       "3  How to insert CookieCollection to CookieContai...   \n",
       "4  Updating one element of a bound Observable col...   \n",
       "\n",
       "                                                   1  \n",
       "0  Convert Google results object (pure js) to Pyt...  \n",
       "1         Event handling for geometries in Three.js?  \n",
       "2  Getting all list items of an unordered list in...  \n",
       "3           C# create cookie from string and send it  \n",
       "4  WPF- How to update the changes in list item of...  "
      ]
     },
     "execution_count": 30,
     "metadata": {},
     "output_type": "execute_result"
    }
   ],
   "source": [
    "train_data = pd.DataFrame(read_corpus(\"./data/train.tsv\")).iloc[:, :2]\n",
    "train_data.head()"
   ]
  },
  {
   "cell_type": "markdown",
   "metadata": {
    "id": "Nr281ZyEJfjT"
   },
   "source": [
    "Улучшите качество модели.<br>Склеим вопросы в пары и обучим на них модель Word2Vec из gensim. Выберите размер window. Объясните свой выбор."
   ]
  },
  {
   "cell_type": "code",
   "execution_count": 123,
   "metadata": {},
   "outputs": [
    {
     "data": {
      "application/vnd.jupyter.widget-view+json": {
       "model_id": "909d1eb61aa64db9ab537b67ae69a94d",
       "version_major": 2,
       "version_minor": 0
      },
      "text/plain": [
       "Output()"
      ]
     },
     "metadata": {},
     "output_type": "display_data"
    }
   ],
   "source": [
    "with halo.HaloNotebook(text=\"Creating sentences iterable...\", spinner=\"line\", placement=\"right\"):\n",
    "    words = train_data.apply(lambda x: [tokenizer.tokenize(i) for i in x])\n",
    "    words = (words[0] + words[1]).values.tolist()"
   ]
  },
  {
   "cell_type": "markdown",
   "metadata": {},
   "source": [
    "Проверим максимальную длину запроса после токенизации:"
   ]
  },
  {
   "cell_type": "code",
   "execution_count": 124,
   "metadata": {},
   "outputs": [
    {
     "data": {
      "text/plain": [
       "105"
      ]
     },
     "execution_count": 124,
     "metadata": {},
     "output_type": "execute_result"
    }
   ],
   "source": [
    "max([len(i) for i in words])"
   ]
  },
  {
   "cell_type": "markdown",
   "metadata": {},
   "source": [
    "Экспериментальным путём получено значение размера окна в 100 слов (изменения метрик выше этого значения незначительны), что близко к максимальной длине вопроса в датасете. Обычно больший размер окна \"запоминает\" больше данных о теме запроса, что важно в данной задаче.\n",
    "\n",
    "(Источник: https://levyomer.files.wordpress.com/2014/04/dependency-based-word-embeddings-acl-2014.pdf)"
   ]
  },
  {
   "cell_type": "code",
   "execution_count": 126,
   "metadata": {
    "id": "QuJzAM0cI-UH"
   },
   "outputs": [
    {
     "data": {
      "application/vnd.jupyter.widget-view+json": {
       "model_id": "b7138f49515c432f873f2d9f903de509",
       "version_major": 2,
       "version_minor": 0
      },
      "text/plain": [
       "Output()"
      ]
     },
     "metadata": {},
     "output_type": "display_data"
    }
   ],
   "source": [
    "with halo.HaloNotebook(text=\"Creating Word2Vec model from questions...\", spinner=\"line\", placement=\"right\"):\n",
    "    embeddings_trained = gensim.models.Word2Vec(words, # data for model to train on\n",
    "                                                vector_size=200, # embedding vector size\n",
    "                                                seed=RANDOM_STATE, # set for reproducibility\n",
    "                                                min_count=5, # consider words that occured at least 5 times\n",
    "                                                window=100).wv"
   ]
  },
  {
   "cell_type": "code",
   "execution_count": 69,
   "metadata": {
    "id": "OQonbm4nMenD"
   },
   "outputs": [
    {
     "data": {
      "application/vnd.jupyter.widget-view+json": {
       "model_id": "feec4f2a750443a2b83e46470cc6b3f5",
       "version_major": 2,
       "version_minor": 0
      },
      "text/plain": [
       "Ranking candidates:   0%|          | 0/1000 [00:00<?, ?question(s)/s]"
      ]
     },
     "metadata": {},
     "output_type": "display_data"
    }
   ],
   "source": [
    "train_ranking = create_dataset_ranking(validation_data, embeddings_trained, tokenizer)"
   ]
  },
  {
   "cell_type": "code",
   "execution_count": 70,
   "metadata": {
    "id": "3kahBUPGMgGR"
   },
   "outputs": [
    {
     "data": {
      "application/vnd.jupyter.widget-view+json": {
       "model_id": "9b4be75962134afeb46759595a4be8db",
       "version_major": 2,
       "version_minor": 0
      },
      "text/plain": [
       "  0%|          | 0/6 [00:00<?, ?it/s]"
      ]
     },
     "metadata": {},
     "output_type": "display_data"
    },
    {
     "name": "stdout",
     "output_type": "stream",
     "text": [
      "DCG@   1: 0.317 | Hits@   1: 0.317\n",
      "DCG@   5: 0.318 | Hits@   5: 0.319\n",
      "DCG@  10: 0.320 | Hits@  10: 0.324\n",
      "DCG@ 100: 0.331 | Hits@ 100: 0.382\n",
      "DCG@ 500: 0.364 | Hits@ 500: 0.645\n",
      "DCG@1000: 0.401 | Hits@1000: 1.000\n"
     ]
    }
   ],
   "source": [
    "print_metrics(train_ranking)"
   ]
  },
  {
   "cell_type": "code",
   "execution_count": 71,
   "metadata": {},
   "outputs": [
    {
     "data": {
      "text/plain": [
       "1041"
      ]
     },
     "execution_count": 71,
     "metadata": {},
     "output_type": "execute_result"
    }
   ],
   "source": [
    "del words\n",
    "del embeddings_trained\n",
    "del train_ranking\n",
    "gc.collect()"
   ]
  },
  {
   "cell_type": "markdown",
   "metadata": {
    "id": "tY8PxB0j-ThG"
   },
   "source": [
    "### Замечание:\n",
    "Решить эту задачу с помощью обучения полноценной нейронной сети будет вам предложено, как часть задания в одной из домашних работ по теме \"Диалоговые системы\"."
   ]
  },
  {
   "cell_type": "markdown",
   "metadata": {},
   "source": [
    "# Эксперименты"
   ]
  },
  {
   "cell_type": "markdown",
   "metadata": {
    "jp-MarkdownHeadingCollapsed": true,
    "tags": []
   },
   "source": [
    "## Токенайзеры и нормализация"
   ]
  },
  {
   "cell_type": "markdown",
   "metadata": {},
   "source": [
    "Попробуем другие токенайзеры (поскольку `WordPunctTokenizer` довольно простой). Начнём с `NISTTokenizer`."
   ]
  },
  {
   "cell_type": "code",
   "execution_count": 84,
   "metadata": {},
   "outputs": [],
   "source": [
    "nist_tokenizer = nltk.tokenize.nist.NISTTokenizer()"
   ]
  },
  {
   "cell_type": "code",
   "execution_count": 87,
   "metadata": {},
   "outputs": [
    {
     "data": {
      "application/vnd.jupyter.widget-view+json": {
       "model_id": "ffa4382558244a25af00def37004197e",
       "version_major": 2,
       "version_minor": 0
      },
      "text/plain": [
       "Output()"
      ]
     },
     "metadata": {},
     "output_type": "display_data"
    }
   ],
   "source": [
    "with halo.HaloNotebook(text=\"Creating sentences iterable...\", spinner=\"line\", placement=\"right\"):\n",
    "    words = train_data.apply(lambda x: [nist_tokenizer.tokenize(i, lowercase=True) for i in x])\n",
    "    words = (words[0] + words[1]).values.tolist()"
   ]
  },
  {
   "cell_type": "code",
   "execution_count": 88,
   "metadata": {},
   "outputs": [
    {
     "data": {
      "application/vnd.jupyter.widget-view+json": {
       "model_id": "745c2d095a9f471a9e59c0b948322038",
       "version_major": 2,
       "version_minor": 0
      },
      "text/plain": [
       "Output()"
      ]
     },
     "metadata": {},
     "output_type": "display_data"
    }
   ],
   "source": [
    "with halo.HaloNotebook(text=\"Creating Word2Vec model from questions...\", spinner=\"line\", placement=\"right\"):\n",
    "    embeddings_trained_nist = gensim.models.Word2Vec(words, # data for model to train on\n",
    "                                                vector_size=200, # embedding vector size\n",
    "                                                seed=RANDOM_STATE, # set for reproducibility\n",
    "                                                min_count=5, # consider words that occured at least 5 times\n",
    "                                                window=100).wv"
   ]
  },
  {
   "cell_type": "code",
   "execution_count": 89,
   "metadata": {},
   "outputs": [
    {
     "data": {
      "application/vnd.jupyter.widget-view+json": {
       "model_id": "9e083d444fc0490da198172d2e7a4c69",
       "version_major": 2,
       "version_minor": 0
      },
      "text/plain": [
       "Ranking candidates:   0%|          | 0/1000 [00:00<?, ?question(s)/s]"
      ]
     },
     "metadata": {},
     "output_type": "display_data"
    }
   ],
   "source": [
    "train_ranking_nist = create_dataset_ranking(validation_data, embeddings_trained_nist, tokenizer)"
   ]
  },
  {
   "cell_type": "code",
   "execution_count": 90,
   "metadata": {},
   "outputs": [
    {
     "data": {
      "application/vnd.jupyter.widget-view+json": {
       "model_id": "b4f936e5ed66441e8f1388e1b3c3c92f",
       "version_major": 2,
       "version_minor": 0
      },
      "text/plain": [
       "  0%|          | 0/6 [00:00<?, ?it/s]"
      ]
     },
     "metadata": {},
     "output_type": "display_data"
    },
    {
     "name": "stdout",
     "output_type": "stream",
     "text": [
      "DCG@   1: 0.206 | Hits@   1: 0.206\n",
      "DCG@   5: 0.207 | Hits@   5: 0.208\n",
      "DCG@  10: 0.208 | Hits@  10: 0.213\n",
      "DCG@ 100: 0.221 | Hits@ 100: 0.282\n",
      "DCG@ 500: 0.259 | Hits@ 500: 0.590\n",
      "DCG@1000: 0.303 | Hits@1000: 1.000\n"
     ]
    }
   ],
   "source": [
    "print_metrics(train_ranking_nist)"
   ]
  },
  {
   "cell_type": "code",
   "execution_count": 91,
   "metadata": {},
   "outputs": [
    {
     "data": {
      "text/plain": [
       "1041"
      ]
     },
     "execution_count": 91,
     "metadata": {},
     "output_type": "execute_result"
    }
   ],
   "source": [
    "del words\n",
    "del embeddings_trained_nist\n",
    "del train_ranking_nist\n",
    "gc.collect()"
   ]
  },
  {
   "cell_type": "markdown",
   "metadata": {},
   "source": [
    "Качество ухудшилось, попробуем `TweetTokenizer`."
   ]
  },
  {
   "cell_type": "code",
   "execution_count": 95,
   "metadata": {},
   "outputs": [],
   "source": [
    "tweet_tokenizer = nltk.tokenize.TweetTokenizer()"
   ]
  },
  {
   "cell_type": "code",
   "execution_count": 99,
   "metadata": {},
   "outputs": [
    {
     "data": {
      "application/vnd.jupyter.widget-view+json": {
       "model_id": "cb6bf243fbda4b8489f2f91643b410e9",
       "version_major": 2,
       "version_minor": 0
      },
      "text/plain": [
       "Output()"
      ]
     },
     "metadata": {},
     "output_type": "display_data"
    }
   ],
   "source": [
    "with halo.HaloNotebook(text=\"Creating sentences iterable...\", spinner=\"line\", placement=\"right\"):\n",
    "    words = train_data.apply(lambda x: [tweet_tokenizer.tokenize(i) for i in x])\n",
    "    words = (words[0] + words[1]).values.tolist()"
   ]
  },
  {
   "cell_type": "code",
   "execution_count": 100,
   "metadata": {},
   "outputs": [
    {
     "data": {
      "application/vnd.jupyter.widget-view+json": {
       "model_id": "6e0232e997644396a6439f88f042d0ae",
       "version_major": 2,
       "version_minor": 0
      },
      "text/plain": [
       "Output()"
      ]
     },
     "metadata": {},
     "output_type": "display_data"
    }
   ],
   "source": [
    "with halo.HaloNotebook(text=\"Creating Word2Vec model from questions...\", spinner=\"line\", placement=\"right\"):\n",
    "    embeddings_trained_tweet = gensim.models.Word2Vec(words, # data for model to train on\n",
    "                                                vector_size=200, # embedding vector size\n",
    "                                                seed=RANDOM_STATE, # set for reproducibility\n",
    "                                                min_count=5, # consider words that occured at least 5 times\n",
    "                                                window=100).wv"
   ]
  },
  {
   "cell_type": "code",
   "execution_count": 101,
   "metadata": {},
   "outputs": [
    {
     "data": {
      "application/vnd.jupyter.widget-view+json": {
       "model_id": "6c7ba5260a194aef96b1ca1b79085b5b",
       "version_major": 2,
       "version_minor": 0
      },
      "text/plain": [
       "Ranking candidates:   0%|          | 0/1000 [00:00<?, ?question(s)/s]"
      ]
     },
     "metadata": {},
     "output_type": "display_data"
    }
   ],
   "source": [
    "train_ranking_tweet = create_dataset_ranking(validation_data, embeddings_trained_tweet, tokenizer)"
   ]
  },
  {
   "cell_type": "code",
   "execution_count": 102,
   "metadata": {},
   "outputs": [
    {
     "data": {
      "application/vnd.jupyter.widget-view+json": {
       "model_id": "ebfcf31e98a34484b7cfca0f9519b245",
       "version_major": 2,
       "version_minor": 0
      },
      "text/plain": [
       "  0%|          | 0/6 [00:00<?, ?it/s]"
      ]
     },
     "metadata": {},
     "output_type": "display_data"
    },
    {
     "name": "stdout",
     "output_type": "stream",
     "text": [
      "DCG@   1: 0.306 | Hits@   1: 0.306\n",
      "DCG@   5: 0.307 | Hits@   5: 0.308\n",
      "DCG@  10: 0.309 | Hits@  10: 0.313\n",
      "DCG@ 100: 0.318 | Hits@ 100: 0.365\n",
      "DCG@ 500: 0.353 | Hits@ 500: 0.638\n",
      "DCG@1000: 0.391 | Hits@1000: 1.000\n"
     ]
    }
   ],
   "source": [
    "print_metrics(train_ranking_tweet)"
   ]
  },
  {
   "cell_type": "code",
   "execution_count": 103,
   "metadata": {},
   "outputs": [
    {
     "data": {
      "text/plain": [
       "1041"
      ]
     },
     "execution_count": 103,
     "metadata": {},
     "output_type": "execute_result"
    }
   ],
   "source": [
    "del words\n",
    "del embeddings_trained_tweet\n",
    "del train_ranking_tweet\n",
    "gc.collect()"
   ]
  },
  {
   "cell_type": "markdown",
   "metadata": {},
   "source": [
    "Незначительное ухудшение с сравнении с `WordPunctTokenizer`. Попробуем `TreebankWordTokenizer`."
   ]
  },
  {
   "cell_type": "code",
   "execution_count": 104,
   "metadata": {},
   "outputs": [],
   "source": [
    "tree_tokenizer = nltk.tokenize.TreebankWordTokenizer()"
   ]
  },
  {
   "cell_type": "code",
   "execution_count": 105,
   "metadata": {},
   "outputs": [
    {
     "data": {
      "application/vnd.jupyter.widget-view+json": {
       "model_id": "023021543ee24deba1cc4ca2a682fc03",
       "version_major": 2,
       "version_minor": 0
      },
      "text/plain": [
       "Output()"
      ]
     },
     "metadata": {},
     "output_type": "display_data"
    }
   ],
   "source": [
    "with halo.HaloNotebook(text=\"Creating sentences iterable...\", spinner=\"line\", placement=\"right\"):\n",
    "    words = train_data.apply(lambda x: [tree_tokenizer.tokenize(i) for i in x])\n",
    "    words = (words[0] + words[1]).values.tolist()"
   ]
  },
  {
   "cell_type": "code",
   "execution_count": 106,
   "metadata": {},
   "outputs": [
    {
     "data": {
      "application/vnd.jupyter.widget-view+json": {
       "model_id": "cd2bd28b422f4bb5a19ec42e8eb4119c",
       "version_major": 2,
       "version_minor": 0
      },
      "text/plain": [
       "Output()"
      ]
     },
     "metadata": {},
     "output_type": "display_data"
    }
   ],
   "source": [
    "with halo.HaloNotebook(text=\"Creating Word2Vec model from questions...\", spinner=\"line\", placement=\"right\"):\n",
    "    embeddings_trained_tree = gensim.models.Word2Vec(words, # data for model to train on\n",
    "                                                vector_size=200, # embedding vector size\n",
    "                                                seed=RANDOM_STATE, # set for reproducibility\n",
    "                                                min_count=5, # consider words that occured at least 5 times\n",
    "                                                window=100).wv"
   ]
  },
  {
   "cell_type": "code",
   "execution_count": 108,
   "metadata": {},
   "outputs": [
    {
     "data": {
      "application/vnd.jupyter.widget-view+json": {
       "model_id": "93e62156d02d436c865496b0066592d0",
       "version_major": 2,
       "version_minor": 0
      },
      "text/plain": [
       "Ranking candidates:   0%|          | 0/1000 [00:00<?, ?question(s)/s]"
      ]
     },
     "metadata": {},
     "output_type": "display_data"
    }
   ],
   "source": [
    "train_ranking_tree = create_dataset_ranking(validation_data, embeddings_trained_tree, tokenizer)"
   ]
  },
  {
   "cell_type": "code",
   "execution_count": 109,
   "metadata": {},
   "outputs": [
    {
     "data": {
      "application/vnd.jupyter.widget-view+json": {
       "model_id": "b6ab2132ef2d4c85bbff1c43e64e6590",
       "version_major": 2,
       "version_minor": 0
      },
      "text/plain": [
       "  0%|          | 0/6 [00:00<?, ?it/s]"
      ]
     },
     "metadata": {},
     "output_type": "display_data"
    },
    {
     "name": "stdout",
     "output_type": "stream",
     "text": [
      "DCG@   1: 0.295 | Hits@   1: 0.295\n",
      "DCG@   5: 0.297 | Hits@   5: 0.299\n",
      "DCG@  10: 0.298 | Hits@  10: 0.303\n",
      "DCG@ 100: 0.307 | Hits@ 100: 0.351\n",
      "DCG@ 500: 0.341 | Hits@ 500: 0.623\n",
      "DCG@1000: 0.381 | Hits@1000: 1.000\n"
     ]
    }
   ],
   "source": [
    "print_metrics(train_ranking_tree)"
   ]
  },
  {
   "cell_type": "code",
   "execution_count": null,
   "metadata": {},
   "outputs": [],
   "source": [
    "del words\n",
    "del embeddings_trained_tree\n",
    "del train_ranking_tree\n",
    "gc.collect()"
   ]
  },
  {
   "cell_type": "markdown",
   "metadata": {},
   "source": [
    "Качество хуже `WordPunctTokenizer`. Попробуем добавить к нему `lower()`."
   ]
  },
  {
   "cell_type": "code",
   "execution_count": 111,
   "metadata": {},
   "outputs": [
    {
     "data": {
      "application/vnd.jupyter.widget-view+json": {
       "model_id": "89403e234393450d8ffbc3a0612f2063",
       "version_major": 2,
       "version_minor": 0
      },
      "text/plain": [
       "Output()"
      ]
     },
     "metadata": {},
     "output_type": "display_data"
    }
   ],
   "source": [
    "with halo.HaloNotebook(text=\"Creating sentences iterable...\", spinner=\"line\", placement=\"right\"):\n",
    "    words = train_data.apply(lambda x: [tokenizer.tokenize(i.lower()) for i in x])\n",
    "    words = (words[0] + words[1]).values.tolist()"
   ]
  },
  {
   "cell_type": "code",
   "execution_count": 112,
   "metadata": {},
   "outputs": [
    {
     "data": {
      "application/vnd.jupyter.widget-view+json": {
       "model_id": "76909792bdd140bcb0b9c97322bd387b",
       "version_major": 2,
       "version_minor": 0
      },
      "text/plain": [
       "Output()"
      ]
     },
     "metadata": {},
     "output_type": "display_data"
    }
   ],
   "source": [
    "with halo.HaloNotebook(text=\"Creating Word2Vec model from questions...\", spinner=\"line\", placement=\"right\"):\n",
    "    embeddings_trained_lower = gensim.models.Word2Vec(words, # data for model to train on\n",
    "                                                vector_size=200, # embedding vector size\n",
    "                                                seed=RANDOM_STATE, # set for reproducibility\n",
    "                                                min_count=5, # consider words that occured at least 5 times\n",
    "                                                window=100).wv"
   ]
  },
  {
   "cell_type": "code",
   "execution_count": 113,
   "metadata": {},
   "outputs": [
    {
     "data": {
      "application/vnd.jupyter.widget-view+json": {
       "model_id": "f1206a417bcc48d680e575b2ca80020c",
       "version_major": 2,
       "version_minor": 0
      },
      "text/plain": [
       "Ranking candidates:   0%|          | 0/1000 [00:00<?, ?question(s)/s]"
      ]
     },
     "metadata": {},
     "output_type": "display_data"
    }
   ],
   "source": [
    "train_ranking_lower = create_dataset_ranking(validation_data, embeddings_trained_lower, tokenizer)"
   ]
  },
  {
   "cell_type": "code",
   "execution_count": 114,
   "metadata": {},
   "outputs": [
    {
     "data": {
      "application/vnd.jupyter.widget-view+json": {
       "model_id": "5ffe802e06f54ee990d4c44be0cb1da2",
       "version_major": 2,
       "version_minor": 0
      },
      "text/plain": [
       "  0%|          | 0/6 [00:00<?, ?it/s]"
      ]
     },
     "metadata": {},
     "output_type": "display_data"
    },
    {
     "name": "stdout",
     "output_type": "stream",
     "text": [
      "DCG@   1: 0.209 | Hits@   1: 0.209\n",
      "DCG@   5: 0.210 | Hits@   5: 0.212\n",
      "DCG@  10: 0.212 | Hits@  10: 0.216\n",
      "DCG@ 100: 0.223 | Hits@ 100: 0.280\n",
      "DCG@ 500: 0.261 | Hits@ 500: 0.584\n",
      "DCG@1000: 0.305 | Hits@1000: 1.000\n"
     ]
    }
   ],
   "source": [
    "print_metrics(train_ranking_lower)"
   ]
  },
  {
   "cell_type": "code",
   "execution_count": 115,
   "metadata": {},
   "outputs": [
    {
     "data": {
      "text/plain": [
       "1041"
      ]
     },
     "execution_count": 115,
     "metadata": {},
     "output_type": "execute_result"
    }
   ],
   "source": [
    "del words\n",
    "del embeddings_trained_lower\n",
    "del train_ranking_lower\n",
    "gc.collect()"
   ]
  },
  {
   "cell_type": "markdown",
   "metadata": {},
   "source": [
    "`lower()` не помогает, попробуем `strip()`."
   ]
  },
  {
   "cell_type": "code",
   "execution_count": 117,
   "metadata": {},
   "outputs": [
    {
     "data": {
      "application/vnd.jupyter.widget-view+json": {
       "model_id": "a71791d9ff61416bbe36751b0ef64886",
       "version_major": 2,
       "version_minor": 0
      },
      "text/plain": [
       "Output()"
      ]
     },
     "metadata": {},
     "output_type": "display_data"
    }
   ],
   "source": [
    "with halo.HaloNotebook(text=\"Creating sentences iterable...\", spinner=\"line\", placement=\"right\"):\n",
    "    words = train_data.apply(lambda x: [tokenizer.tokenize(i.strip()) for i in x])\n",
    "    words = (words[0] + words[1]).values.tolist()"
   ]
  },
  {
   "cell_type": "code",
   "execution_count": 118,
   "metadata": {},
   "outputs": [
    {
     "data": {
      "application/vnd.jupyter.widget-view+json": {
       "model_id": "2b3f8f1df63742289273ec6b6c5a4e64",
       "version_major": 2,
       "version_minor": 0
      },
      "text/plain": [
       "Output()"
      ]
     },
     "metadata": {},
     "output_type": "display_data"
    }
   ],
   "source": [
    "with halo.HaloNotebook(text=\"Creating Word2Vec model from questions...\", spinner=\"line\", placement=\"right\"):\n",
    "    embeddings_trained_strip = gensim.models.Word2Vec(words, # data for model to train on\n",
    "                                                vector_size=200, # embedding vector size\n",
    "                                                seed=RANDOM_STATE, # set for reproducibility\n",
    "                                                min_count=5, # consider words that occured at least 5 times\n",
    "                                                window=100).wv"
   ]
  },
  {
   "cell_type": "code",
   "execution_count": 119,
   "metadata": {},
   "outputs": [
    {
     "data": {
      "application/vnd.jupyter.widget-view+json": {
       "model_id": "b845e5bcec8b4f56b48c9cfcae324237",
       "version_major": 2,
       "version_minor": 0
      },
      "text/plain": [
       "Ranking candidates:   0%|          | 0/1000 [00:00<?, ?question(s)/s]"
      ]
     },
     "metadata": {},
     "output_type": "display_data"
    }
   ],
   "source": [
    "train_ranking_strip = create_dataset_ranking(validation_data, embeddings_trained_strip, tokenizer)"
   ]
  },
  {
   "cell_type": "code",
   "execution_count": 120,
   "metadata": {},
   "outputs": [
    {
     "data": {
      "application/vnd.jupyter.widget-view+json": {
       "model_id": "1841ef8376974c03af8bd3cddc13154b",
       "version_major": 2,
       "version_minor": 0
      },
      "text/plain": [
       "  0%|          | 0/6 [00:00<?, ?it/s]"
      ]
     },
     "metadata": {},
     "output_type": "display_data"
    },
    {
     "name": "stdout",
     "output_type": "stream",
     "text": [
      "DCG@   1: 0.312 | Hits@   1: 0.312\n",
      "DCG@   5: 0.312 | Hits@   5: 0.313\n",
      "DCG@  10: 0.314 | Hits@  10: 0.319\n",
      "DCG@ 100: 0.324 | Hits@ 100: 0.372\n",
      "DCG@ 500: 0.358 | Hits@ 500: 0.636\n",
      "DCG@1000: 0.396 | Hits@1000: 1.000\n"
     ]
    }
   ],
   "source": [
    "print_metrics(train_ranking_strip)"
   ]
  },
  {
   "cell_type": "code",
   "execution_count": 121,
   "metadata": {},
   "outputs": [
    {
     "data": {
      "text/plain": [
       "1041"
      ]
     },
     "execution_count": 121,
     "metadata": {},
     "output_type": "execute_result"
    }
   ],
   "source": [
    "del words\n",
    "del embeddings_trained_strip\n",
    "del train_ranking_strip\n",
    "gc.collect()"
   ]
  },
  {
   "cell_type": "markdown",
   "metadata": {},
   "source": [
    "Несущественная разница с \"чистым\" `WordPunctTokenizer`."
   ]
  },
  {
   "cell_type": "markdown",
   "metadata": {
    "tags": []
   },
   "source": [
    "## Нормализация"
   ]
  },
  {
   "cell_type": "markdown",
   "metadata": {},
   "source": [
    "Попробуем применить стемминг."
   ]
  },
  {
   "cell_type": "code",
   "execution_count": 130,
   "metadata": {},
   "outputs": [],
   "source": [
    "stemmer = nltk.stem.PorterStemmer()"
   ]
  },
  {
   "cell_type": "code",
   "execution_count": 135,
   "metadata": {},
   "outputs": [
    {
     "data": {
      "application/vnd.jupyter.widget-view+json": {
       "model_id": "6ccd99e30474452f9b9cce67102a66e9",
       "version_major": 2,
       "version_minor": 0
      },
      "text/plain": [
       "Output()"
      ]
     },
     "metadata": {},
     "output_type": "display_data"
    }
   ],
   "source": [
    "with halo.HaloNotebook(text=\"Creating sentences iterable...\", spinner=\"line\", placement=\"right\"):\n",
    "    words = train_data.apply(lambda x: [tokenizer.tokenize(i) for i in x])\n",
    "    words = (words[0].apply(lambda x: [stemmer.stem(i) for i in x]) + words[1].apply(lambda x: [stemmer.stem(i) for i in x])).values.tolist()"
   ]
  },
  {
   "cell_type": "code",
   "execution_count": 137,
   "metadata": {},
   "outputs": [
    {
     "data": {
      "application/vnd.jupyter.widget-view+json": {
       "model_id": "6730cd50a43e4fcdbf7b22c29f0f69d5",
       "version_major": 2,
       "version_minor": 0
      },
      "text/plain": [
       "Output()"
      ]
     },
     "metadata": {},
     "output_type": "display_data"
    }
   ],
   "source": [
    "with halo.HaloNotebook(text=\"Creating Word2Vec model from questions...\", spinner=\"line\", placement=\"right\"):\n",
    "    embeddings_trained = gensim.models.Word2Vec(words, # data for model to train on\n",
    "                                                vector_size=200, # embedding vector size\n",
    "                                                seed=RANDOM_STATE, # set for reproducibility\n",
    "                                                min_count=5, # consider words that occured at least 5 times\n",
    "                                                window=100).wv"
   ]
  },
  {
   "cell_type": "code",
   "execution_count": 138,
   "metadata": {},
   "outputs": [
    {
     "data": {
      "application/vnd.jupyter.widget-view+json": {
       "model_id": "c57a98a7cd814e5db6e143968b46545f",
       "version_major": 2,
       "version_minor": 0
      },
      "text/plain": [
       "Ranking candidates:   0%|          | 0/1000 [00:00<?, ?question(s)/s]"
      ]
     },
     "metadata": {},
     "output_type": "display_data"
    }
   ],
   "source": [
    "train_ranking = create_dataset_ranking(validation_data, embeddings_trained, tokenizer)"
   ]
  },
  {
   "cell_type": "code",
   "execution_count": 139,
   "metadata": {},
   "outputs": [
    {
     "data": {
      "application/vnd.jupyter.widget-view+json": {
       "model_id": "9161959926374797b952c08d8e7aadfa",
       "version_major": 2,
       "version_minor": 0
      },
      "text/plain": [
       "  0%|          | 0/6 [00:00<?, ?it/s]"
      ]
     },
     "metadata": {},
     "output_type": "display_data"
    },
    {
     "name": "stdout",
     "output_type": "stream",
     "text": [
      "DCG@   1: 0.153 | Hits@   1: 0.153\n",
      "DCG@   5: 0.154 | Hits@   5: 0.155\n",
      "DCG@  10: 0.155 | Hits@  10: 0.157\n",
      "DCG@ 100: 0.170 | Hits@ 100: 0.241\n",
      "DCG@ 500: 0.211 | Hits@ 500: 0.569\n",
      "DCG@1000: 0.256 | Hits@1000: 1.000\n"
     ]
    }
   ],
   "source": [
    "print_metrics(train_ranking)"
   ]
  },
  {
   "cell_type": "code",
   "execution_count": 140,
   "metadata": {},
   "outputs": [
    {
     "data": {
      "text/plain": [
       "1041"
      ]
     },
     "execution_count": 140,
     "metadata": {},
     "output_type": "execute_result"
    }
   ],
   "source": [
    "del words\n",
    "del embeddings_trained\n",
    "del train_ranking\n",
    "gc.collect()"
   ]
  },
  {
   "cell_type": "markdown",
   "metadata": {},
   "source": [
    "Серьёзное падение качества. Попробуем лемматизацию."
   ]
  },
  {
   "cell_type": "code",
   "execution_count": 143,
   "metadata": {},
   "outputs": [],
   "source": [
    "lemmatizer = nltk.WordNetLemmatizer()"
   ]
  },
  {
   "cell_type": "code",
   "execution_count": 144,
   "metadata": {},
   "outputs": [
    {
     "data": {
      "application/vnd.jupyter.widget-view+json": {
       "model_id": "5625f023410f49de95d696b41fe3347c",
       "version_major": 2,
       "version_minor": 0
      },
      "text/plain": [
       "Output()"
      ]
     },
     "metadata": {},
     "output_type": "display_data"
    }
   ],
   "source": [
    "with halo.HaloNotebook(text=\"Creating sentences iterable...\", spinner=\"line\", placement=\"right\"):\n",
    "    words = train_data.apply(lambda x: [tokenizer.tokenize(i) for i in x])\n",
    "    words = (words[0].apply(lambda x: [lemmatizer.lemmatize(i) for i in x])\n",
    "             + words[1].apply(lambda x: [lemmatizer.lemmatize(i) for i in x]))\\\n",
    "    .values.tolist()"
   ]
  },
  {
   "cell_type": "code",
   "execution_count": 145,
   "metadata": {},
   "outputs": [
    {
     "data": {
      "application/vnd.jupyter.widget-view+json": {
       "model_id": "485c8daebc67470abcf96803ecd465a4",
       "version_major": 2,
       "version_minor": 0
      },
      "text/plain": [
       "Output()"
      ]
     },
     "metadata": {},
     "output_type": "display_data"
    }
   ],
   "source": [
    "with halo.HaloNotebook(text=\"Creating Word2Vec model from questions...\", spinner=\"line\", placement=\"right\"):\n",
    "    embeddings_trained = gensim.models.Word2Vec(words, # data for model to train on\n",
    "                                                vector_size=200, # embedding vector size\n",
    "                                                seed=RANDOM_STATE, # set for reproducibility\n",
    "                                                min_count=5, # consider words that occured at least 5 times\n",
    "                                                window=100).wv"
   ]
  },
  {
   "cell_type": "code",
   "execution_count": 146,
   "metadata": {},
   "outputs": [
    {
     "data": {
      "application/vnd.jupyter.widget-view+json": {
       "model_id": "d0f35b20e297428bb06bee01136f4164",
       "version_major": 2,
       "version_minor": 0
      },
      "text/plain": [
       "Ranking candidates:   0%|          | 0/1000 [00:00<?, ?question(s)/s]"
      ]
     },
     "metadata": {},
     "output_type": "display_data"
    }
   ],
   "source": [
    "train_ranking = create_dataset_ranking(validation_data, embeddings_trained, tokenizer)"
   ]
  },
  {
   "cell_type": "code",
   "execution_count": 147,
   "metadata": {},
   "outputs": [
    {
     "data": {
      "application/vnd.jupyter.widget-view+json": {
       "model_id": "2f4ba07339944ee59f257cc39f8a9b09",
       "version_major": 2,
       "version_minor": 0
      },
      "text/plain": [
       "  0%|          | 0/6 [00:00<?, ?it/s]"
      ]
     },
     "metadata": {},
     "output_type": "display_data"
    },
    {
     "name": "stdout",
     "output_type": "stream",
     "text": [
      "DCG@   1: 0.292 | Hits@   1: 0.292\n",
      "DCG@   5: 0.292 | Hits@   5: 0.292\n",
      "DCG@  10: 0.294 | Hits@  10: 0.297\n",
      "DCG@ 100: 0.305 | Hits@ 100: 0.360\n",
      "DCG@ 500: 0.340 | Hits@ 500: 0.636\n",
      "DCG@1000: 0.378 | Hits@1000: 1.000\n"
     ]
    }
   ],
   "source": [
    "print_metrics(train_ranking)"
   ]
  },
  {
   "cell_type": "code",
   "execution_count": 148,
   "metadata": {},
   "outputs": [
    {
     "data": {
      "text/plain": [
       "1041"
      ]
     },
     "execution_count": 148,
     "metadata": {},
     "output_type": "execute_result"
    }
   ],
   "source": [
    "del words\n",
    "del embeddings_trained\n",
    "del train_ranking\n",
    "gc.collect()"
   ]
  },
  {
   "cell_type": "markdown",
   "metadata": {},
   "source": [
    "Лучше, чем эффект от стемминга, но всё ещё хуже baseline."
   ]
  },
  {
   "cell_type": "markdown",
   "metadata": {},
   "source": [
    "# Вывод"
   ]
  },
  {
   "cell_type": "markdown",
   "metadata": {
    "id": "vymVj8IxO2PO"
   },
   "source": [
    "Напишите свой вывод о полученных результатах.\n",
    "* Какой принцип токенизации даёт качество лучше и почему? : `WordPunctTokenizer`, видимо, из-за особенностей датасета (небольшие фразы + наличие в словах спецсимволов)\n",
    "* Помогает ли нормализация слов? : Приведение к нижнему регистру сильно ухудшает качество, удаление пунктуации практически не возымело эффекта. Стемминг и лемматизация приводили к ухудшению качества.\n",
    "* Какие эмбеддинги лучше справляются с задачей и почему? Обученные с нуля (за счёт соединения двух похожих запросов в одно предложение)\n",
    "* Почему получилось плохое качество решения задачи? Крайне простой способ получения векторов вопросов (простым усреднением).\n",
    "* Предложите свой подход к решению задачи. Возможно, стоит заняться Topic Modelling (например, попробовать Latent Dirichlet Allocation), или использовать RNN для получения векторов предложений. Можно попробовать и трансформеры, но не факт, что применения настолько \"тяжёлой\" модели будет оправдано. (Кажется, наш текущий метод плохо определяет тему предложения, что для ранжирования запросов крайне важно, более продвинутые методы справляются с этой задачей лучше)"
   ]
  }
 ],
 "metadata": {
  "colab": {
   "collapsed_sections": [
    "BIWqBuEa6j0b",
    "uS9FwWNd5a3S",
    "MQk_rolFwT_h",
    "ai48-5vv6j1d",
    "Y60z4t6W6j16",
    "0sUSxk866j1_",
    "J5xWOORI6j2F",
    "tHZqgDTo6j0i",
    "ySQQp0oQt1Ep",
    "LL6_Rjg3InL8"
   ],
   "name": "[homework]simple_embeddings.ipynb",
   "provenance": []
  },
  "kernelspec": {
   "display_name": "Python 3 (ipykernel)",
   "language": "python",
   "name": "python3"
  },
  "language_info": {
   "codemirror_mode": {
    "name": "ipython",
    "version": 3
   },
   "file_extension": ".py",
   "mimetype": "text/x-python",
   "name": "python",
   "nbconvert_exporter": "python",
   "pygments_lexer": "ipython3",
   "version": "3.11.3"
  }
 },
 "nbformat": 4,
 "nbformat_minor": 4
}
